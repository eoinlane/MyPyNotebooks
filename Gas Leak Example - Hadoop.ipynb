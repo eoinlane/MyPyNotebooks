{
 "cells": [
  {
   "cell_type": "markdown",
   "metadata": {},
   "source": [
    "Set up a Hive connection using pyhs2 and access a db table called 'boston_leaks'"
   ]
  },
  {
   "cell_type": "code",
   "execution_count": 1,
   "metadata": {
    "collapsed": false
   },
   "outputs": [
    {
     "name": "stdout",
     "output_type": "stream",
     "text": [
      "[['default', ''], ['xademo', '']]\n",
      "['Location', 'Leak_no', 'WO_no', 'Description', 'Severity', 'X_coord', 'Y_coord', 'Days_open']\n"
     ]
    }
   ],
   "source": [
    "import pyhs2\n",
    "import pandas as pd \n",
    "\n",
    "from pylab import *\n",
    "import matplotlib.pyplot as plt\n",
    "%matplotlib inline\n",
    "\n",
    "with pyhs2.connect(host='localhost',\n",
    "                   port=10000,\n",
    "                   authMechanism=\"PLAIN\",\n",
    "                   user='root',\n",
    "                   password='test',\n",
    "                   database='default') as conn:\n",
    "    with conn.cursor() as cur:\n",
    "    \t#Show databases\n",
    "    \tprint cur.getDatabases()\n",
    "\n",
    "    \t#Execute query\n",
    "        sql = \"select * from boston_leaks\"\n",
    "        cur.execute(sql)\n",
    "\n",
    "        #Return column info from query\n",
    "        columnNames = ['Location', 'Leak_no', 'WO_no', 'Description', 'Severity', 'X_coord', 'Y_coord', 'Days_open']\n",
    "        print columnNames\n",
    "        #columnNamesStrings = [a['columnName'] for a in  cur.getSchema() if a['type']=='STRING_TYPE'] \n",
    "        data =  pd.DataFrame(cur.fetch(),columns=columnNames)"
   ]
  },
  {
   "cell_type": "code",
   "execution_count": 2,
   "metadata": {
    "collapsed": false
   },
   "outputs": [
    {
     "data": {
      "text/plain": [
       "pandas.core.frame.DataFrame"
      ]
     },
     "execution_count": 2,
     "metadata": {},
     "output_type": "execute_result"
    }
   ],
   "source": [
    "type(data)"
   ]
  },
  {
   "cell_type": "markdown",
   "metadata": {},
   "source": [
    "The data object is a DataFrame, a Pandas type consisting of a two-dimensional labeled data structure with columns of potentially different types (like a Excel spreadsheet). Like a NumPy array, the shape attribute returns the shape of the table. But unlike NumPy, the DataFrame object has a richer structure, and in particular the keys methods returns the names of the different columns."
   ]
  },
  {
   "cell_type": "code",
   "execution_count": 3,
   "metadata": {
    "collapsed": false
   },
   "outputs": [
    {
     "data": {
      "text/plain": [
       "((222, 8),\n",
       " Index([u'Location', u'Leak_no', u'WO_no', u'Description', u'Severity',\n",
       "        u'X_coord', u'Y_coord', u'Days_open'],\n",
       "       dtype='object'))"
      ]
     },
     "execution_count": 3,
     "metadata": {},
     "output_type": "execute_result"
    }
   ],
   "source": [
    "data.shape, data.keys()"
   ]
  },
  {
   "cell_type": "markdown",
   "metadata": {},
   "source": [
    "We can see that data has more than 222 lines, and eight columns including the severity, no of days open and GPS coordinates of each city. The head and tail methods allow to take a quick look to the beginning and the end of the table, respectively."
   ]
  },
  {
   "cell_type": "code",
   "execution_count": 4,
   "metadata": {
    "collapsed": false,
    "scrolled": true
   },
   "outputs": [
    {
     "data": {
      "text/html": [
       "<div style=\"max-height:1000px;max-width:1500px;overflow:auto;\">\n",
       "<table border=\"1\" class=\"dataframe\">\n",
       "  <thead>\n",
       "    <tr style=\"text-align: right;\">\n",
       "      <th></th>\n",
       "      <th>Location</th>\n",
       "      <th>Leak_no</th>\n",
       "      <th>WO_no</th>\n",
       "      <th>Description</th>\n",
       "      <th>Severity</th>\n",
       "      <th>X_coord</th>\n",
       "      <th>Y_coord</th>\n",
       "      <th>Days_open</th>\n",
       "    </tr>\n",
       "  </thead>\n",
       "  <tbody>\n",
       "    <tr>\n",
       "      <th>217</th>\n",
       "      <td>POINT (-71.077641094558487 42.340802885315512)</td>\n",
       "      <td>1775386</td>\n",
       "      <td>1008771</td>\n",
       "      <td>711 TREMONT STBOS</td>\n",
       "      <td>1</td>\n",
       "      <td>234804.147</td>\n",
       "      <td>899009.395</td>\n",
       "      <td>21</td>\n",
       "    </tr>\n",
       "    <tr>\n",
       "      <th>218</th>\n",
       "      <td>POINT (-71.078535178832212 42.350678652238294)</td>\n",
       "      <td>1779085</td>\n",
       "      <td>1009489</td>\n",
       "      <td>167 NEWBURY STBOS</td>\n",
       "      <td>3</td>\n",
       "      <td>234725.051</td>\n",
       "      <td>900105.982</td>\n",
       "      <td>58</td>\n",
       "    </tr>\n",
       "    <tr>\n",
       "      <th>219</th>\n",
       "      <td>POINT (-71.090089798335853 42.350678387067198)</td>\n",
       "      <td>1779105</td>\n",
       "      <td>1009503</td>\n",
       "      <td>503 BEACON STBOS</td>\n",
       "      <td>3</td>\n",
       "      <td>233773.058</td>\n",
       "      <td>900101.313</td>\n",
       "      <td>56</td>\n",
       "    </tr>\n",
       "    <tr>\n",
       "      <th>220</th>\n",
       "      <td>POINT (-71.064039452639747 42.34333367021636)</td>\n",
       "      <td>1779965</td>\n",
       "      <td>1009786</td>\n",
       "      <td>160 E BERKELEY STBOS</td>\n",
       "      <td>3</td>\n",
       "      <td>235923.533</td>\n",
       "      <td>899296.141</td>\n",
       "      <td>34</td>\n",
       "    </tr>\n",
       "    <tr>\n",
       "      <th>221</th>\n",
       "      <td>POINT (-71.078097533150299 42.340438592009932)</td>\n",
       "      <td>1790046</td>\n",
       "      <td>1012166</td>\n",
       "      <td>725 TREMONT STBOS</td>\n",
       "      <td>1</td>\n",
       "      <td>234766.735</td>\n",
       "      <td>898968.745</td>\n",
       "      <td>2</td>\n",
       "    </tr>\n",
       "  </tbody>\n",
       "</table>\n",
       "</div>"
      ],
      "text/plain": [
       "                                           Location  Leak_no    WO_no  \\\n",
       "217  POINT (-71.077641094558487 42.340802885315512)  1775386  1008771   \n",
       "218  POINT (-71.078535178832212 42.350678652238294)  1779085  1009489   \n",
       "219  POINT (-71.090089798335853 42.350678387067198)  1779105  1009503   \n",
       "220   POINT (-71.064039452639747 42.34333367021636)  1779965  1009786   \n",
       "221  POINT (-71.078097533150299 42.340438592009932)  1790046  1012166   \n",
       "\n",
       "              Description  Severity     X_coord     Y_coord  Days_open  \n",
       "217     711 TREMONT STBOS         1  234804.147  899009.395         21  \n",
       "218     167 NEWBURY STBOS         3  234725.051  900105.982         58  \n",
       "219      503 BEACON STBOS         3  233773.058  900101.313         56  \n",
       "220  160 E BERKELEY STBOS         3  235923.533  899296.141         34  \n",
       "221     725 TREMONT STBOS         1  234766.735  898968.745          2  "
      ]
     },
     "execution_count": 4,
     "metadata": {},
     "output_type": "execute_result"
    }
   ],
   "source": [
    "data.tail()"
   ]
  },
  {
   "cell_type": "markdown",
   "metadata": {},
   "source": [
    "We'll see in the next sections what we can actually do with these data.\n",
    "\n",
    "Each column of the DataFrame object can be accessed with its name and filterd by attributes "
   ]
  },
  {
   "cell_type": "code",
   "execution_count": 5,
   "metadata": {
    "collapsed": false
   },
   "outputs": [
    {
     "data": {
      "text/plain": [
       "0      3\n",
       "1      3\n",
       "2      3\n",
       "3      3\n",
       "4      3\n",
       "5      3\n",
       "6      3\n",
       "7      3\n",
       "8      3\n",
       "9      3\n",
       "10     3\n",
       "11     3\n",
       "12     3\n",
       "13     3\n",
       "14     3\n",
       "15     3\n",
       "16     3\n",
       "17     3\n",
       "18     3\n",
       "19     3\n",
       "20     3\n",
       "21     3\n",
       "22     3\n",
       "23     3\n",
       "24     3\n",
       "25     3\n",
       "26     3\n",
       "27     3\n",
       "28     3\n",
       "29     3\n",
       "      ..\n",
       "192    2\n",
       "193    2\n",
       "194    3\n",
       "195    2\n",
       "196    3\n",
       "197    2\n",
       "198    3\n",
       "199    2\n",
       "200    2\n",
       "201    0\n",
       "202    2\n",
       "203    0\n",
       "204    3\n",
       "205    3\n",
       "206    0\n",
       "207    2\n",
       "208    0\n",
       "209    2\n",
       "210    2\n",
       "211    2\n",
       "212    3\n",
       "213    3\n",
       "214    2\n",
       "215    2\n",
       "216    2\n",
       "217    1\n",
       "218    3\n",
       "219    3\n",
       "220    3\n",
       "221    1\n",
       "Name: Severity, dtype: int64"
      ]
     },
     "execution_count": 5,
     "metadata": {},
     "output_type": "execute_result"
    }
   ],
   "source": [
    "data.Severity"
   ]
  },
  {
   "cell_type": "code",
   "execution_count": 6,
   "metadata": {
    "collapsed": false
   },
   "outputs": [
    {
     "data": {
      "text/html": [
       "<div style=\"max-height:1000px;max-width:1500px;overflow:auto;\">\n",
       "<table border=\"1\" class=\"dataframe\">\n",
       "  <thead>\n",
       "    <tr style=\"text-align: right;\">\n",
       "      <th></th>\n",
       "      <th>Location</th>\n",
       "      <th>Leak_no</th>\n",
       "      <th>WO_no</th>\n",
       "      <th>Description</th>\n",
       "      <th>Severity</th>\n",
       "      <th>X_coord</th>\n",
       "      <th>Y_coord</th>\n",
       "      <th>Days_open</th>\n",
       "    </tr>\n",
       "  </thead>\n",
       "  <tbody>\n",
       "    <tr>\n",
       "      <th>90</th>\n",
       "      <td>POINT (-71.0771347637248 42.335619114067697)</td>\n",
       "      <td>269235</td>\n",
       "      <td>403711</td>\n",
       "      <td>115 NORTHAMPTON ST BOS</td>\n",
       "      <td>2</td>\n",
       "      <td>234848.725</td>\n",
       "      <td>898433.815</td>\n",
       "      <td>400</td>\n",
       "    </tr>\n",
       "    <tr>\n",
       "      <th>119</th>\n",
       "      <td>POINT (-71.101699881046116 42.342414338514445)</td>\n",
       "      <td>325036</td>\n",
       "      <td>685066</td>\n",
       "      <td>235 PARK DRBOS</td>\n",
       "      <td>2</td>\n",
       "      <td>232820.781</td>\n",
       "      <td>899178.850</td>\n",
       "      <td>37</td>\n",
       "    </tr>\n",
       "    <tr>\n",
       "      <th>184</th>\n",
       "      <td>POINT (-71.078340785188317 42.3366379410391)</td>\n",
       "      <td>1540329</td>\n",
       "      <td>966677</td>\n",
       "      <td>160 NORTHAMPTON STBOS</td>\n",
       "      <td>2</td>\n",
       "      <td>234748.777</td>\n",
       "      <td>898546.489</td>\n",
       "      <td>263</td>\n",
       "    </tr>\n",
       "    <tr>\n",
       "      <th>185</th>\n",
       "      <td>POINT (-71.058741754347935 42.353288226082071)</td>\n",
       "      <td>1598457</td>\n",
       "      <td>976220</td>\n",
       "      <td>85 BEDFORD STBOS</td>\n",
       "      <td>2</td>\n",
       "      <td>236354.344</td>\n",
       "      <td>900404.088</td>\n",
       "      <td>237</td>\n",
       "    </tr>\n",
       "    <tr>\n",
       "      <th>186</th>\n",
       "      <td>POINT (-71.094876015347296 42.342861529452364)</td>\n",
       "      <td>1598504</td>\n",
       "      <td>976250</td>\n",
       "      <td>55 PARK DRBOS</td>\n",
       "      <td>2</td>\n",
       "      <td>233382.842</td>\n",
       "      <td>899231.170</td>\n",
       "      <td>237</td>\n",
       "    </tr>\n",
       "    <tr>\n",
       "      <th>187</th>\n",
       "      <td>POINT (-71.067760961153169 42.340848335392472)</td>\n",
       "      <td>1600664</td>\n",
       "      <td>976668</td>\n",
       "      <td>HARRISON AVEBOS</td>\n",
       "      <td>2</td>\n",
       "      <td>235618.279</td>\n",
       "      <td>899018.522</td>\n",
       "      <td>239</td>\n",
       "    </tr>\n",
       "    <tr>\n",
       "      <th>188</th>\n",
       "      <td>POINT (-71.062516539443862 42.342842699545187)</td>\n",
       "      <td>1601476</td>\n",
       "      <td>976807</td>\n",
       "      <td>307 ALBANY STBOS</td>\n",
       "      <td>2</td>\n",
       "      <td>236049.301</td>\n",
       "      <td>899242.249</td>\n",
       "      <td>264</td>\n",
       "    </tr>\n",
       "    <tr>\n",
       "      <th>192</th>\n",
       "      <td>POINT (-71.070498934883886 42.345932404251343)</td>\n",
       "      <td>1630947</td>\n",
       "      <td>982732</td>\n",
       "      <td>35 BERKELEY STBOS</td>\n",
       "      <td>2</td>\n",
       "      <td>235389.817</td>\n",
       "      <td>899582.095</td>\n",
       "      <td>190</td>\n",
       "    </tr>\n",
       "    <tr>\n",
       "      <th>193</th>\n",
       "      <td>POINT (-71.076461591489021 42.343093176929528)</td>\n",
       "      <td>1635977</td>\n",
       "      <td>983856</td>\n",
       "      <td>196 W BROOKLINE STBOS</td>\n",
       "      <td>2</td>\n",
       "      <td>234900.079</td>\n",
       "      <td>899264.271</td>\n",
       "      <td>185</td>\n",
       "    </tr>\n",
       "    <tr>\n",
       "      <th>195</th>\n",
       "      <td>POINT (-71.072999108936258 42.33325856025742)</td>\n",
       "      <td>1656871</td>\n",
       "      <td>987237</td>\n",
       "      <td>784 MASSACHUSETTS AVEBOS</td>\n",
       "      <td>2</td>\n",
       "      <td>235190.858</td>\n",
       "      <td>898173.315</td>\n",
       "      <td>171</td>\n",
       "    </tr>\n",
       "    <tr>\n",
       "      <th>197</th>\n",
       "      <td>POINT (-71.084176543744249 42.349162681976523)</td>\n",
       "      <td>1669623</td>\n",
       "      <td>990211</td>\n",
       "      <td>284 NEWBURY STBOS</td>\n",
       "      <td>2</td>\n",
       "      <td>234261.076</td>\n",
       "      <td>899935.314</td>\n",
       "      <td>156</td>\n",
       "    </tr>\n",
       "    <tr>\n",
       "      <th>199</th>\n",
       "      <td>POINT (-71.053384176904643 42.364019933217243)</td>\n",
       "      <td>1676878</td>\n",
       "      <td>991526</td>\n",
       "      <td>31 NORTH SQBOS</td>\n",
       "      <td>2</td>\n",
       "      <td>236789.498</td>\n",
       "      <td>901598.412</td>\n",
       "      <td>141</td>\n",
       "    </tr>\n",
       "    <tr>\n",
       "      <th>200</th>\n",
       "      <td>POINT (-71.082883890032107 42.351756978032235)</td>\n",
       "      <td>1689770</td>\n",
       "      <td>993327</td>\n",
       "      <td>275 MARLBOROUGH STBOS</td>\n",
       "      <td>2</td>\n",
       "      <td>234366.172</td>\n",
       "      <td>900223.996</td>\n",
       "      <td>122</td>\n",
       "    </tr>\n",
       "    <tr>\n",
       "      <th>202</th>\n",
       "      <td>POINT (-71.056574657597565 42.355456326955576)</td>\n",
       "      <td>1709770</td>\n",
       "      <td>996315</td>\n",
       "      <td>70 FEDERAL STBOS</td>\n",
       "      <td>2</td>\n",
       "      <td>236531.633</td>\n",
       "      <td>900645.836</td>\n",
       "      <td>118</td>\n",
       "    </tr>\n",
       "    <tr>\n",
       "      <th>207</th>\n",
       "      <td>POINT (-71.067476713088283 42.343990838611482)</td>\n",
       "      <td>1734218</td>\n",
       "      <td>1000082</td>\n",
       "      <td>225 SHAWMUT AVEBOS</td>\n",
       "      <td>2</td>\n",
       "      <td>235639.932</td>\n",
       "      <td>899367.694</td>\n",
       "      <td>99</td>\n",
       "    </tr>\n",
       "    <tr>\n",
       "      <th>209</th>\n",
       "      <td>POINT (-71.101331764371196 42.350443386456753)</td>\n",
       "      <td>1746845</td>\n",
       "      <td>1001882</td>\n",
       "      <td>173 BAY STATE RDBOS</td>\n",
       "      <td>2</td>\n",
       "      <td>232846.946</td>\n",
       "      <td>900070.820</td>\n",
       "      <td>79</td>\n",
       "    </tr>\n",
       "    <tr>\n",
       "      <th>210</th>\n",
       "      <td>POINT (-71.088171957385825 42.344346655477707)</td>\n",
       "      <td>1754477</td>\n",
       "      <td>1003348</td>\n",
       "      <td>48 BURBANK STBOS</td>\n",
       "      <td>2</td>\n",
       "      <td>233934.466</td>\n",
       "      <td>899398.776</td>\n",
       "      <td>71</td>\n",
       "    </tr>\n",
       "    <tr>\n",
       "      <th>211</th>\n",
       "      <td>POINT (-71.068668114192135 42.361167928565074)</td>\n",
       "      <td>1755615</td>\n",
       "      <td>1004425</td>\n",
       "      <td>300 CAMBRIDGE STBOS</td>\n",
       "      <td>2</td>\n",
       "      <td>235532.113</td>\n",
       "      <td>901275.145</td>\n",
       "      <td>54</td>\n",
       "    </tr>\n",
       "    <tr>\n",
       "      <th>214</th>\n",
       "      <td>POINT (-71.078615392148819 42.350657096142683)</td>\n",
       "      <td>1774393</td>\n",
       "      <td>1008599</td>\n",
       "      <td>169 NEWBURY STBOS</td>\n",
       "      <td>2</td>\n",
       "      <td>234718.454</td>\n",
       "      <td>900103.555</td>\n",
       "      <td>37</td>\n",
       "    </tr>\n",
       "    <tr>\n",
       "      <th>215</th>\n",
       "      <td>POINT (-71.06056250834051 42.365769053311787)</td>\n",
       "      <td>1774405</td>\n",
       "      <td>1008604</td>\n",
       "      <td>125 CAUSEWAY STBOS</td>\n",
       "      <td>2</td>\n",
       "      <td>236197.195</td>\n",
       "      <td>901789.625</td>\n",
       "      <td>36</td>\n",
       "    </tr>\n",
       "    <tr>\n",
       "      <th>216</th>\n",
       "      <td>POINT (-71.096364608992488 42.34880201538067)</td>\n",
       "      <td>1774416</td>\n",
       "      <td>1008607</td>\n",
       "      <td>543 COMMONWEALTH AVEBOS</td>\n",
       "      <td>2</td>\n",
       "      <td>233257.058</td>\n",
       "      <td>899890.429</td>\n",
       "      <td>35</td>\n",
       "    </tr>\n",
       "  </tbody>\n",
       "</table>\n",
       "</div>"
      ],
      "text/plain": [
       "                                           Location  Leak_no    WO_no  \\\n",
       "90     POINT (-71.0771347637248 42.335619114067697)   269235   403711   \n",
       "119  POINT (-71.101699881046116 42.342414338514445)   325036   685066   \n",
       "184    POINT (-71.078340785188317 42.3366379410391)  1540329   966677   \n",
       "185  POINT (-71.058741754347935 42.353288226082071)  1598457   976220   \n",
       "186  POINT (-71.094876015347296 42.342861529452364)  1598504   976250   \n",
       "187  POINT (-71.067760961153169 42.340848335392472)  1600664   976668   \n",
       "188  POINT (-71.062516539443862 42.342842699545187)  1601476   976807   \n",
       "192  POINT (-71.070498934883886 42.345932404251343)  1630947   982732   \n",
       "193  POINT (-71.076461591489021 42.343093176929528)  1635977   983856   \n",
       "195   POINT (-71.072999108936258 42.33325856025742)  1656871   987237   \n",
       "197  POINT (-71.084176543744249 42.349162681976523)  1669623   990211   \n",
       "199  POINT (-71.053384176904643 42.364019933217243)  1676878   991526   \n",
       "200  POINT (-71.082883890032107 42.351756978032235)  1689770   993327   \n",
       "202  POINT (-71.056574657597565 42.355456326955576)  1709770   996315   \n",
       "207  POINT (-71.067476713088283 42.343990838611482)  1734218  1000082   \n",
       "209  POINT (-71.101331764371196 42.350443386456753)  1746845  1001882   \n",
       "210  POINT (-71.088171957385825 42.344346655477707)  1754477  1003348   \n",
       "211  POINT (-71.068668114192135 42.361167928565074)  1755615  1004425   \n",
       "214  POINT (-71.078615392148819 42.350657096142683)  1774393  1008599   \n",
       "215   POINT (-71.06056250834051 42.365769053311787)  1774405  1008604   \n",
       "216   POINT (-71.096364608992488 42.34880201538067)  1774416  1008607   \n",
       "\n",
       "                  Description  Severity     X_coord     Y_coord  Days_open  \n",
       "90     115 NORTHAMPTON ST BOS         2  234848.725  898433.815        400  \n",
       "119            235 PARK DRBOS         2  232820.781  899178.850         37  \n",
       "184     160 NORTHAMPTON STBOS         2  234748.777  898546.489        263  \n",
       "185          85 BEDFORD STBOS         2  236354.344  900404.088        237  \n",
       "186             55 PARK DRBOS         2  233382.842  899231.170        237  \n",
       "187           HARRISON AVEBOS         2  235618.279  899018.522        239  \n",
       "188          307 ALBANY STBOS         2  236049.301  899242.249        264  \n",
       "192         35 BERKELEY STBOS         2  235389.817  899582.095        190  \n",
       "193     196 W BROOKLINE STBOS         2  234900.079  899264.271        185  \n",
       "195  784 MASSACHUSETTS AVEBOS         2  235190.858  898173.315        171  \n",
       "197         284 NEWBURY STBOS         2  234261.076  899935.314        156  \n",
       "199            31 NORTH SQBOS         2  236789.498  901598.412        141  \n",
       "200     275 MARLBOROUGH STBOS         2  234366.172  900223.996        122  \n",
       "202          70 FEDERAL STBOS         2  236531.633  900645.836        118  \n",
       "207        225 SHAWMUT AVEBOS         2  235639.932  899367.694         99  \n",
       "209       173 BAY STATE RDBOS         2  232846.946  900070.820         79  \n",
       "210          48 BURBANK STBOS         2  233934.466  899398.776         71  \n",
       "211       300 CAMBRIDGE STBOS         2  235532.113  901275.145         54  \n",
       "214         169 NEWBURY STBOS         2  234718.454  900103.555         37  \n",
       "215        125 CAUSEWAY STBOS         2  236197.195  901789.625         36  \n",
       "216   543 COMMONWEALTH AVEBOS         2  233257.058  899890.429         35  "
      ]
     },
     "execution_count": 6,
     "metadata": {},
     "output_type": "execute_result"
    }
   ],
   "source": [
    "data[data.Severity==2]"
   ]
  },
  {
   "cell_type": "markdown",
   "metadata": {},
   "source": [
    "The same syntax works in NumPy and Pandas. Here, we find a number of leaks of severity 2. To access a single element with Pandas, we can use the .ix attribute (for index):"
   ]
  },
  {
   "cell_type": "code",
   "execution_count": 7,
   "metadata": {
    "collapsed": false
   },
   "outputs": [
    {
     "data": {
      "text/plain": [
       "Location       POINT (-71.0771347637248 42.335619114067697)\n",
       "Leak_no                                              269235\n",
       "WO_no                                                403711\n",
       "Description                          115 NORTHAMPTON ST BOS\n",
       "Severity                                                  2\n",
       "X_coord                                            234848.7\n",
       "Y_coord                                            898433.8\n",
       "Days_open                                               400\n",
       "Name: 90, dtype: object"
      ]
     },
     "execution_count": 7,
     "metadata": {},
     "output_type": "execute_result"
    }
   ],
   "source": [
    "index = 90\n",
    "data.ix[index]"
   ]
  },
  {
   "cell_type": "markdown",
   "metadata": {},
   "source": [
    "Now, let's turn this Series object into a pure NumPy array. We go from the Pandas world to NumPy (keeping in mind that Pandas is built on top of NumPy). We'll mostly work with the population count of all cities."
   ]
  },
  {
   "cell_type": "code",
   "execution_count": 8,
   "metadata": {
    "collapsed": false
   },
   "outputs": [],
   "source": [
    "import numpy as np \n",
    "days_open = np.array(data.Days_open)"
   ]
  },
  {
   "cell_type": "code",
   "execution_count": 9,
   "metadata": {
    "collapsed": false
   },
   "outputs": [
    {
     "data": {
      "text/plain": [
       "(222,)"
      ]
     },
     "execution_count": 9,
     "metadata": {},
     "output_type": "execute_result"
    }
   ],
   "source": [
    "days_open.shape"
   ]
  },
  {
   "cell_type": "code",
   "execution_count": 10,
   "metadata": {
    "collapsed": false
   },
   "outputs": [
    {
     "data": {
      "text/plain": [
       "400"
      ]
     },
     "execution_count": 10,
     "metadata": {},
     "output_type": "execute_result"
    }
   ],
   "source": [
    "days_open[index]"
   ]
  },
  {
   "cell_type": "code",
   "execution_count": 12,
   "metadata": {
    "collapsed": false
   },
   "outputs": [
    {
     "data": {
      "text/plain": [
       "array([False, False, False, False, False, False, False, False, False,\n",
       "       False, False, False, False, False, False, False, False, False,\n",
       "       False, False, False, False, False, False, False, False, False,\n",
       "       False, False, False, False, False, False, False, False, False,\n",
       "       False, False, False, False, False, False, False, False, False,\n",
       "       False, False, False, False, False, False, False, False, False,\n",
       "       False, False, False, False, False, False, False, False, False,\n",
       "       False, False, False, False, False, False, False, False, False,\n",
       "       False, False, False, False, False, False, False, False, False,\n",
       "       False, False, False, False, False, False, False, False, False,\n",
       "       False, False, False, False, False, False, False, False, False,\n",
       "       False, False, False, False, False, False, False, False, False,\n",
       "       False, False, False, False, False, False, False, False, False,\n",
       "       False, False, False, False, False, False, False, False, False,\n",
       "       False, False, False, False, False, False, False, False, False,\n",
       "       False, False, False, False, False, False, False, False, False,\n",
       "       False, False, False, False, False, False, False, False, False,\n",
       "       False, False, False, False, False, False, False, False, False,\n",
       "       False, False, False, False, False, False, False, False, False,\n",
       "       False, False, False, False, False, False, False, False, False,\n",
       "       False, False, False, False, False, False, False, False, False,\n",
       "       False, False, False, False, False, False, False, False, False,\n",
       "       False, False, False, False, False, False, False, False, False,\n",
       "       False, False, False, False, False, False, False, False, False,\n",
       "       False, False, False, False, False, False], dtype=bool)"
      ]
     },
     "execution_count": 12,
     "metadata": {},
     "output_type": "execute_result"
    }
   ],
   "source": [
    "np.isnan(days_open)"
   ]
  },
  {
   "cell_type": "code",
   "execution_count": 13,
   "metadata": {
    "collapsed": false
   },
   "outputs": [
    {
     "data": {
      "text/plain": [
       "(222, 1.0)"
      ]
     },
     "execution_count": 13,
     "metadata": {},
     "output_type": "execute_result"
    }
   ],
   "source": [
    "x = days_open[~_]\n",
    "len(x), len(x) / float(len(days_open))"
   ]
  },
  {
   "cell_type": "markdown",
   "metadata": {},
   "source": [
    "All of the leaks reported have a 'days open' count.\n",
    "\n",
    "Let's explore now some statistics on the leaks days open."
   ]
  },
  {
   "cell_type": "code",
   "execution_count": 14,
   "metadata": {
    "collapsed": false
   },
   "outputs": [
    {
     "data": {
      "text/plain": [
       "2573.9594594594596"
      ]
     },
     "execution_count": 14,
     "metadata": {},
     "output_type": "execute_result"
    }
   ],
   "source": [
    "x.mean()"
   ]
  },
  {
   "cell_type": "code",
   "execution_count": 15,
   "metadata": {
    "collapsed": false
   },
   "outputs": [
    {
     "data": {
      "text/plain": [
       "571.41899999999998"
      ]
     },
     "execution_count": 15,
     "metadata": {},
     "output_type": "execute_result"
    }
   ],
   "source": [
    "x.sum() / 1e3"
   ]
  },
  {
   "cell_type": "code",
   "execution_count": 16,
   "metadata": {
    "collapsed": false
   },
   "outputs": [
    {
     "data": {
      "text/plain": [
       "count      222.000000\n",
       "mean      2573.959459\n",
       "std       2073.948328\n",
       "min          2.000000\n",
       "25%        516.750000\n",
       "50%       2173.000000\n",
       "75%       4097.750000\n",
       "max      10651.000000\n",
       "Name: Days_open, dtype: float64"
      ]
     },
     "execution_count": 16,
     "metadata": {},
     "output_type": "execute_result"
    }
   ],
   "source": [
    "data.Days_open.describe()"
   ]
  },
  {
   "cell_type": "code",
   "execution_count": 17,
   "metadata": {
    "collapsed": false
   },
   "outputs": [],
   "source": [
    "x = data.Severity\n",
    "y = data.Days_open"
   ]
  },
  {
   "cell_type": "markdown",
   "metadata": {},
   "source": [
    "Plot histogram for the leaks by severity and days open"
   ]
  },
  {
   "cell_type": "code",
   "execution_count": 18,
   "metadata": {
    "collapsed": false
   },
   "outputs": [
    {
     "data": {
      "image/png": "[encoded data removed]",
      "text/plain": [
       "<matplotlib.figure.Figure at 0x423d090>"
      ]
     },
     "metadata": {},
     "output_type": "display_data"
    }
   ],
   "source": [
    "#fig = plt.figure()\n",
    "fig, axes = plt.subplots(1, 2, figsize=(10,3))\n",
    "\n",
    "axes[0].hist(x, 50, facecolor='r')\n",
    "axes[0].set_xlabel('Severity')\n",
    "axes[0].set_ylabel('No. of Leaks')\n",
    "axes[0].set_title('Histogram');\n",
    "\n",
    "axes[1].hist(y, 50, facecolor='b')\n",
    "axes[1].set_xlabel('Days Open')\n",
    "axes[1].set_ylabel('No. of Leaks')\n",
    "axes[1].set_title('Histogram');"
   ]
  },
  {
   "cell_type": "markdown",
   "metadata": {},
   "source": [
    "For more information on customizing this graph see here http://nbviewer.ipython.org/github/htapia/scientific-python-lectures/blob/master/Lecture-4-Matplotlib.ipynb"
   ]
  },
  {
   "cell_type": "code",
   "execution_count": null,
   "metadata": {
    "collapsed": false
   },
   "outputs": [],
   "source": [
    "fig.savefig(\"filename.png\")"
   ]
  },
  {
   "cell_type": "markdown",
   "metadata": {},
   "source": [
    "Need to create a Lat/Long array"
   ]
  },
  {
   "cell_type": "code",
   "execution_count": null,
   "metadata": {
    "collapsed": false
   },
   "outputs": [],
   "source": [
    "coords = pd.Series(data.Location)\n",
    "type(coords)\n",
    "str_coords = coords.str[1:-1].str.split(' ')\n",
    "long = str_coords.str[1].str.split('(')\n",
    "coords_df = pd.DataFrame({'lat': str_coords.str[2], 'lon': long.str[1]})\n",
    "coords_df.astype(str).head()"
   ]
  },
  {
   "cell_type": "code",
   "execution_count": null,
   "metadata": {
    "collapsed": false
   },
   "outputs": [],
   "source": [
    "coords_df.shape"
   ]
  },
  {
   "cell_type": "code",
   "execution_count": null,
   "metadata": {
    "collapsed": false
   },
   "outputs": [],
   "source": [
    "print coords_df"
   ]
  },
  {
   "cell_type": "code",
   "execution_count": null,
   "metadata": {
    "collapsed": false
   },
   "outputs": [],
   "source": [
    "#plot(coords_df.lon, coords_df.lat, ',')\n",
    "fig, axes = plt.scatter(coords_df.lon[:,0], coords_df.lat[:,1])"
   ]
  },
  {
   "cell_type": "code",
   "execution_count": null,
   "metadata": {
    "collapsed": false
   },
   "outputs": [],
   "source": [
    "plt.scatter(coords_df.lon[:,0], coords_df[:,1]);"
   ]
  },
  {
   "cell_type": "code",
   "execution_count": null,
   "metadata": {
    "collapsed": false
   },
   "outputs": [],
   "source": [
    "# function to read HDFS file into dataframe using PyDoop\n",
    "import pydoop.hdfs as hdfs\n",
    "def read_csv_from_hdfs(path, cols, col_types=None):\n",
    "  files = hdfs.ls(path);\n",
    "  pieces = []\n",
    "  for f in files:\n",
    "    fhandle = hdfs.open(f)\n",
    "    pieces.append(pd.read_csv(fhandle, names=cols, dtype=col_types))\n",
    "    fhandle.close()\n",
    "  return pd.concat(pieces, ignore_index=True)"
   ]
  },
  {
   "cell_type": "code",
   "execution_count": null,
   "metadata": {
    "collapsed": false
   },
   "outputs": [],
   "source": [
    "%%writefile preprocess1.pig\n",
    "\n",
    "ORD_2007 = data.Severity\n",
    "rmf airline/fm/ord_2007_1\n",
    "store ORD_2007 into 'airline/fm/ord_2007_1' using PigStorage(',');"
   ]
  },
  {
   "cell_type": "code",
   "execution_count": null,
   "metadata": {
    "collapsed": false
   },
   "outputs": [],
   "source": [
    "%%writefile preprocess1.pig\n",
    "\n",
    "#Register 'util.py' USING jython as util;\n",
    "DEFINE preprocess(year_str, airport_code) returns data\n",
    "{\n",
    "    -- load airline data from specified year (need to specify fields since it's not in HCat)\n",
    "        airline = load 'airline/delay/$year_str.csv' using PigStorage(',') \n",
    "            as (Year: int, Month: int, DayOfMonth: int, DayOfWeek: int, DepTime: chararray, \n",
    "                CRSDepTime: chararray, ArrTime, CRSArrTime, Carrier: chararray, FlightNum, TailNum, ActualElapsedTime, \n",
    "                CRSElapsedTime, AirTime, ArrDelay, DepDelay: int, Origin: chararray, Dest: chararray, Distance: int, \n",
    "                TaxiIn, TaxiOut, Cancelled: int, CancellationCode, Diverted, CarrierDelay, WeatherDelay, \n",
    "                NASDelay, SecurityDelay, LateAircraftDelay);\n",
    "\n",
    "        -- keep only instances where flight was not cancelled and originate at ORD\n",
    "        airline_flt = filter airline by Cancelled == 0 and Origin == '$airport_code';\n",
    "\n",
    "        -- Keep only fields I need\n",
    "        $data = foreach airline_flt generate DepDelay as delay, Month, DayOfMonth, DayOfWeek, \n",
    "                                             util.get_hour(CRSDepTime) as hour, Distance, Carrier, Dest,\n",
    "                                             util.days_from_nearest_holiday(Year, Month, DayOfMonth) as hdays;\n",
    "};\n",
    "\n",
    "ORD_2007 = preprocess('2007', 'ORD');\n",
    "rmf airline/fm/ord_2007_1\n",
    "store ORD_2007 into 'airline/fm/ord_2007_1' using PigStorage(',');"
   ]
  },
  {
   "cell_type": "code",
   "execution_count": null,
   "metadata": {
    "collapsed": false
   },
   "outputs": [],
   "source": [
    "%%bash --err pig_out --bg \n",
    "pig -f preprocess1.pig"
   ]
  },
  {
   "cell_type": "code",
   "execution_count": null,
   "metadata": {
    "collapsed": false
   },
   "outputs": [],
   "source": [
    "while True:\n",
    "    line = pig_out.readline()\n",
    "    if not line: \n",
    "        break\n",
    "    sys.stdout.write(\"%s\" % line)\n",
    "    sys.stdout.flush()"
   ]
  },
  {
   "cell_type": "code",
   "execution_count": null,
   "metadata": {
    "collapsed": true
   },
   "outputs": [],
   "source": []
  }
 ],
 "metadata": {
  "kernelspec": {
   "display_name": "Python 2",
   "language": "python",
   "name": "python2"
  },
  "language_info": {
   "codemirror_mode": {
    "name": "ipython",
    "version": 2
   },
   "file_extension": ".py",
   "mimetype": "text/x-python",
   "name": "python",
   "nbconvert_exporter": "python",
   "pygments_lexer": "ipython2",
   "version": "2.7.6"
  }
 },
 "nbformat": 4,
 "nbformat_minor": 0
}
