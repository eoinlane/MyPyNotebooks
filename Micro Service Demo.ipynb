{
 "cells": [
  {
   "cell_type": "code",
   "execution_count": null,
   "metadata": {
    "collapsed": true
   },
   "outputs": [],
   "source": [
    "from flask import Flask\n",
    "app = Flask(__name__)\n",
    "\n",
    "@app.route(\"/\")\n",
    "def hello():\n",
    "    return \"Hello World!\"\n",
    "\n",
    "if __name__ == \"__main__\":\n",
    "    app.run(host='0.0.0.0')"
   ]
  },
  {
   "cell_type": "markdown",
   "metadata": {},
   "source": [
    "http://flask-restful.readthedocs.org/en/latest/quickstart.html#full-example"
   ]
  },
  {
   "cell_type": "code",
   "execution_count": 1,
   "metadata": {
    "collapsed": false
   },
   "outputs": [
    {
     "ename": "ImportError",
     "evalue": "No module named flask_restful",
     "output_type": "error",
     "traceback": [
      "\u001b[1;31m---------------------------------------------------------------------------\u001b[0m",
      "\u001b[1;31mImportError\u001b[0m                               Traceback (most recent call last)",
      "\u001b[1;32m<ipython-input-1-977bc5c30062>\u001b[0m in \u001b[0;36m<module>\u001b[1;34m()\u001b[0m\n\u001b[0;32m      1\u001b[0m \u001b[1;32mfrom\u001b[0m \u001b[0mflask\u001b[0m \u001b[1;32mimport\u001b[0m \u001b[0mFlask\u001b[0m\u001b[1;33m\u001b[0m\u001b[0m\n\u001b[1;32m----> 2\u001b[1;33m \u001b[1;32mfrom\u001b[0m \u001b[0mflask_restful\u001b[0m \u001b[1;32mimport\u001b[0m \u001b[0mreqparse\u001b[0m\u001b[1;33m,\u001b[0m \u001b[0mabort\u001b[0m\u001b[1;33m,\u001b[0m \u001b[0mApi\u001b[0m\u001b[1;33m,\u001b[0m \u001b[0mResource\u001b[0m\u001b[1;33m\u001b[0m\u001b[0m\n\u001b[0m\u001b[0;32m      3\u001b[0m \u001b[1;33m\u001b[0m\u001b[0m\n\u001b[0;32m      4\u001b[0m \u001b[0mapp\u001b[0m \u001b[1;33m=\u001b[0m \u001b[0mFlask\u001b[0m\u001b[1;33m(\u001b[0m\u001b[0m__name__\u001b[0m\u001b[1;33m)\u001b[0m\u001b[1;33m\u001b[0m\u001b[0m\n\u001b[0;32m      5\u001b[0m \u001b[0mapi\u001b[0m \u001b[1;33m=\u001b[0m \u001b[0mApi\u001b[0m\u001b[1;33m(\u001b[0m\u001b[0mapp\u001b[0m\u001b[1;33m)\u001b[0m\u001b[1;33m\u001b[0m\u001b[0m\n",
      "\u001b[1;31mImportError\u001b[0m: No module named flask_restful"
     ]
    },
    {
     "ename": "ImportError",
     "evalue": "No module named flask_restful",
     "output_type": "error",
     "traceback": [
      "\u001b[1;31m---------------------------------------------------------------------------\u001b[0m",
      "\u001b[1;31mImportError\u001b[0m                               Traceback (most recent call last)",
      "\u001b[1;32m<ipython-input-1-977bc5c30062>\u001b[0m in \u001b[0;36m<module>\u001b[1;34m()\u001b[0m\n\u001b[0;32m      1\u001b[0m \u001b[1;32mfrom\u001b[0m \u001b[0mflask\u001b[0m \u001b[1;32mimport\u001b[0m \u001b[0mFlask\u001b[0m\u001b[1;33m\u001b[0m\u001b[0m\n\u001b[1;32m----> 2\u001b[1;33m \u001b[1;32mfrom\u001b[0m \u001b[0mflask_restful\u001b[0m \u001b[1;32mimport\u001b[0m \u001b[0mreqparse\u001b[0m\u001b[1;33m,\u001b[0m \u001b[0mabort\u001b[0m\u001b[1;33m,\u001b[0m \u001b[0mApi\u001b[0m\u001b[1;33m,\u001b[0m \u001b[0mResource\u001b[0m\u001b[1;33m\u001b[0m\u001b[0m\n\u001b[0m\u001b[0;32m      3\u001b[0m \u001b[1;33m\u001b[0m\u001b[0m\n\u001b[0;32m      4\u001b[0m \u001b[0mapp\u001b[0m \u001b[1;33m=\u001b[0m \u001b[0mFlask\u001b[0m\u001b[1;33m(\u001b[0m\u001b[0m__name__\u001b[0m\u001b[1;33m)\u001b[0m\u001b[1;33m\u001b[0m\u001b[0m\n\u001b[0;32m      5\u001b[0m \u001b[0mapi\u001b[0m \u001b[1;33m=\u001b[0m \u001b[0mApi\u001b[0m\u001b[1;33m(\u001b[0m\u001b[0mapp\u001b[0m\u001b[1;33m)\u001b[0m\u001b[1;33m\u001b[0m\u001b[0m\n",
      "\u001b[1;31mImportError\u001b[0m: No module named flask_restful"
     ]
    }
   ],
   "source": [
    "from flask import Flask\n",
    "from flask_restful import reqparse, abort, Api, Resource\n",
    "\n",
    "app = Flask(__name__)\n",
    "api = Api(app)\n",
    "\n",
    "TODOS = {\n",
    "    'todo1': {'task': 'build an API'},\n",
    "    'todo2': {'task': '?????'},\n",
    "    'todo3': {'task': 'profit!'},\n",
    "}\n",
    "\n",
    "\n",
    "def abort_if_todo_doesnt_exist(todo_id):\n",
    "    if todo_id not in TODOS:\n",
    "        abort(404, message=\"Todo {} doesn't exist\".format(todo_id))\n",
    "\n",
    "parser = reqparse.RequestParser()\n",
    "parser.add_argument('task', type=str)\n",
    "\n",
    "\n",
    "# Todo\n",
    "# shows a single todo item and lets you delete a todo item\n",
    "class Todo(Resource):\n",
    "    def get(self, todo_id):\n",
    "        abort_if_todo_doesnt_exist(todo_id)\n",
    "        return TODOS[todo_id]\n",
    "\n",
    "    def delete(self, todo_id):\n",
    "        abort_if_todo_doesnt_exist(todo_id)\n",
    "        del TODOS[todo_id]\n",
    "        return '', 204\n",
    "\n",
    "    def put(self, todo_id):\n",
    "        args = parser.parse_args()\n",
    "        task = {'task': args['task']}\n",
    "        TODOS[todo_id] = task\n",
    "        return task, 201\n",
    "\n",
    "\n",
    "# TodoList\n",
    "# shows a list of all todos, and lets you POST to add new tasks\n",
    "class TodoList(Resource):\n",
    "    def get(self):\n",
    "        return TODOS\n",
    "\n",
    "    def post(self):\n",
    "        args = parser.parse_args()\n",
    "        todo_id = int(max(TODOS.keys()).lstrip('todo')) + 1\n",
    "        todo_id = 'todo%i' % todo_id\n",
    "        TODOS[todo_id] = {'task': args['task']}\n",
    "        return TODOS[todo_id], 201\n",
    "\n",
    "##\n",
    "## Actually setup the Api resource routing here\n",
    "##\n",
    "api.add_resource(TodoList, '/todos')\n",
    "api.add_resource(Todo, '/todos/<todo_id>')\n",
    "\n",
    "\n",
    "if __name__ == '__main__':\n",
    "    app.run(host='0.0.0.0', debug=True)"
   ]
  },
  {
   "cell_type": "code",
   "execution_count": null,
   "metadata": {
    "collapsed": true
   },
   "outputs": [],
   "source": [
    "from flask import Flask\n",
    "from flask_restful import reqparse, abort, Api, Resource\n",
    "\n",
    "app = Flask(__name__)\n",
    "api = Api(app)\n",
    "\n",
    "TODOS = {\n",
    "    'todo1': {'task': 'build an API'},\n",
    "    'todo2': {'task': '?????'},\n",
    "    'todo3': {'task': 'profit!'},\n",
    "}\n",
    "\n",
    "\n",
    "def abort_if_todo_doesnt_exist(todo_id):\n",
    "    if todo_id not in TODOS:\n",
    "        abort(404, message=\"Todo {} doesn't exist\".format(todo_id))\n",
    "\n",
    "parser = reqparse.RequestParser()\n",
    "parser.add_argument('task', type=str)\n",
    "\n",
    "\n",
    "# Todo\n",
    "# shows a single todo item and lets you delete a todo item\n",
    "class Todo(Resource):\n",
    "    def get(self, todo_id):\n",
    "        abort_if_todo_doesnt_exist(todo_id)\n",
    "        return TODOS[todo_id]\n",
    "\n",
    "    def delete(self, todo_id):\n",
    "        abort_if_todo_doesnt_exist(todo_id)\n",
    "        del TODOS[todo_id]\n",
    "        return '', 204\n",
    "\n",
    "    def put(self, todo_id):\n",
    "        args = parser.parse_args()\n",
    "        task = {'task': args['task']}\n",
    "        TODOS[todo_id] = task\n",
    "        return task, 201\n",
    "\n",
    "\n",
    "# TodoList\n",
    "# shows a list of all todos, and lets you POST to add new tasks\n",
    "class TodoList(Resource):\n",
    "    def get(self):\n",
    "        return TODOS\n",
    "\n",
    "    def post(self):\n",
    "        args = parser.parse_args()\n",
    "        todo_id = int(max(TODOS.keys()).lstrip('todo')) + 1\n",
    "        todo_id = 'todo%i' % todo_id\n",
    "        TODOS[todo_id] = {'task': args['task']}\n",
    "        return TODOS[todo_id], 201\n",
    "\n",
    "##\n",
    "## Actually setup the Api resource routing here\n",
    "##\n",
    "api.add_resource(TodoList, '/todos')\n",
    "api.add_resource(Todo, '/todos/<todo_id>')\n",
    "\n",
    "\n",
    "if __name__ == '__main__':\n",
    "    app.run(debug=True)"
   ]
  }
 ],
 "metadata": {
  "kernelspec": {
   "display_name": "Python 2",
   "language": "python",
   "name": "python2"
  },
  "language_info": {
   "codemirror_mode": {
    "name": "ipython",
    "version": 2
   },
   "file_extension": ".py",
   "mimetype": "text/x-python",
   "name": "python",
   "nbconvert_exporter": "python",
   "pygments_lexer": "ipython2",
   "version": "2.7.6"
  }
 },
 "nbformat": 4,
 "nbformat_minor": 0
}
