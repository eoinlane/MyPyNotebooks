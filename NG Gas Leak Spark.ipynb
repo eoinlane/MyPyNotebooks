{
 "cells": [
  {
   "cell_type": "code",
   "execution_count": 1,
   "metadata": {
    "collapsed": true
   },
   "outputs": [],
   "source": [
    "from pyspark import  SparkContext\n",
    "sc = SparkContext( 'local', 'pyspark')"
   ]
  },
  {
   "cell_type": "code",
   "execution_count": 19,
   "metadata": {
    "collapsed": false
   },
   "outputs": [],
   "source": [
    "from pyspark.sql import HiveContext\n",
    "from pyspark.mllib.clustering import KMeans\n",
    "from pyspark.mllib.linalg import Vectors\n",
    "from pyspark.mllib.stat import Statistics\n",
    "from math import sqrt\n",
    "import matplotlib.pyplot as plt\n",
    "from pylab import *\n",
    "\n",
    "%matplotlib inline\n",
    "\n",
    "hiveContext = HiveContext(sc)\n",
    "\n",
    "#Build a feature matrix\n",
    "#data = hiveContext.sql('select worktype,eqnum,location,faildate,description from maximo_workorder')\n",
    "\n",
    "data1 = hiveContext.sql('select leak_no,pressure,material,diameter,cause,repair_code,main_segment_no from prod_leak_repair')\n",
    "data = hiveContext.sql('select leak_no,diameter,cause,repair_code,main_segment_no from prod_leak_repair')\n",
    "\n",
    "#label.zip(scaler1.transform(features.map(lambda x: Vectors.dense(x.toArray()))))\n",
    "#\n",
    "#val parsedData = data.map(x => Vectors.dense(x.split(',').map(_.toDouble))).cache()"
   ]
  },
  {
   "cell_type": "code",
   "execution_count": 3,
   "metadata": {
    "collapsed": false
   },
   "outputs": [
    {
     "name": "stdout",
     "output_type": "stream",
     "text": [
      "DataFrame[leak_no: bigint, diameter: bigint, cause: bigint, repair_code: bigint, main_segment_no: bigint]\n"
     ]
    },
    {
     "data": {
      "text/plain": [
       "Row(leak_no=3122, diameter=12, cause=5, repair_code=1, main_segment_no=0)"
      ]
     },
     "execution_count": 3,
     "metadata": {},
     "output_type": "execute_result"
    }
   ],
   "source": [
    "print data\n",
    "data.count()\n",
    "data.first()"
   ]
  },
  {
   "cell_type": "code",
   "execution_count": 4,
   "metadata": {
    "collapsed": true
   },
   "outputs": [],
   "source": [
    "parsedData = data.map(lambda x: Vectors.dense(x)).cache()"
   ]
  },
  {
   "cell_type": "code",
   "execution_count": 5,
   "metadata": {
    "collapsed": false
   },
   "outputs": [
    {
     "data": {
      "text/plain": [
       "332333"
      ]
     },
     "execution_count": 5,
     "metadata": {},
     "output_type": "execute_result"
    }
   ],
   "source": [
    "parsedData.count()"
   ]
  },
  {
   "cell_type": "code",
   "execution_count": 6,
   "metadata": {
    "collapsed": false
   },
   "outputs": [
    {
     "name": "stdout",
     "output_type": "stream",
     "text": [
      "[        nan         nan  3.24574147         nan         nan]\n",
      "[       nan        nan  4.1861656        nan        nan]\n",
      "[ 332333.  285035.  332333.  332333.  236125.]\n"
     ]
    }
   ],
   "source": [
    "summary = Statistics.colStats(parsedData)\n",
    "print summary.mean()\n",
    "print summary.variance()\n",
    "print summary.numNonzeros()"
   ]
  },
  {
   "cell_type": "code",
   "execution_count": 7,
   "metadata": {
    "collapsed": false
   },
   "outputs": [
    {
     "name": "stdout",
     "output_type": "stream",
     "text": [
      "        leak_no  diameter  cause  repair_code  main_segment_no\n",
      "0          3122        12      5            1                0\n",
      "1          3123         3      5            1                0\n",
      "2          3124         4      5            1          1664948\n",
      "3          3125         8      5            1                0\n",
      "4          3127         6      6            1            58055\n",
      "5          3128         6      6            1            58055\n",
      "6          3133         8      6            1            58051\n",
      "7          3136         4      5            1                0\n",
      "8          3142         4      6            1           213300\n",
      "9          3143         4      5            1           213573\n",
      "10         3147         6      6            9                0\n",
      "11         3149         6      5            1            59273\n",
      "12         3151         4      5            1            58089\n",
      "13         3153         6      5            1            59278\n",
      "14         3155         6      5            1                0\n",
      "15         3156         4      5            1            58086\n",
      "16         3158         6      5            1            58081\n",
      "17         3159         4      5            1                0\n",
      "18         3160         4      5            1            58086\n",
      "19         3161         6      5            1            58081\n",
      "20         3163         3      5            1            58090\n",
      "21         3164        12      5            1            59483\n",
      "22         3165        12      5            1            59483\n",
      "23         3167         6      6            1          1702249\n",
      "24         3169         6      5            1            59784\n",
      "25         3170         6      5            1            59784\n",
      "26         3171         6      5            1            59758\n",
      "27         3173         6      5            1            59758\n",
      "28         3174         6      5            1            59758\n",
      "29         3176         6      5            1            59265\n",
      "...         ...       ...    ...          ...              ...\n",
      "332303  1755738         4      6          NaN              NaN\n",
      "332304  1756171         0      6          NaN              NaN\n",
      "332305  1785123        16      5            1              NaN\n",
      "332306  1785123        16      5            1              NaN\n",
      "332307  1785123        16      5            1              NaN\n",
      "332308   325351         2      1          NaN              NaN\n",
      "332309  1683741         8      5            1              NaN\n",
      "332310  1699935         1      6          NaN              NaN\n",
      "332311  1656968         4      6          NaN              NaN\n",
      "332312  1632916        10      5            1              NaN\n",
      "332313  1632916        10      5            1              NaN\n",
      "332314  1632916        10      1            7              NaN\n",
      "332315  1724942         4      1            7              NaN\n",
      "332316  1726625         6      5            1              NaN\n",
      "332317  1607257         4      1            7              NaN\n",
      "332318  1777660         0      2          NaN              NaN\n",
      "332319  1607268         3      5            1              NaN\n",
      "332320  1607268         6      5            1              NaN\n",
      "332321  1678786         1      6            9              NaN\n",
      "332322  1686399        12      6            7              NaN\n",
      "332323  1689682         2      6          NaN              NaN\n",
      "332324  1683776         1      1            2              NaN\n",
      "332325  1704019         1      5            5              NaN\n",
      "332326   321194         6      6          NaN              NaN\n",
      "332327  1657756         6      6          NaN              NaN\n",
      "332328  1662315         1      6          NaN              NaN\n",
      "332329  1625812         4      1            1              NaN\n",
      "332330  1769426        12      4            1              NaN\n",
      "332331  1591135         1      2          NaN              NaN\n",
      "332332  1771835         4      5           10              NaN\n",
      "\n",
      "[332333 rows x 5 columns]\n"
     ]
    }
   ],
   "source": [
    "# Convert Spark DataFrame to Pandas available in Spark 1.3.x\n",
    "pandas_df = data.toPandas()\n",
    "\n",
    "# Create a Spark DataFrame from Pandas\n",
    "spark_df = hiveContext.createDataFrame(pandas_df)\n",
    "\n",
    "print pandas_df"
   ]
  },
  {
   "cell_type": "code",
   "execution_count": 8,
   "metadata": {
    "collapsed": false
   },
   "outputs": [
    {
     "data": {
      "image/png": "[encoded data removed]",
      "text/plain": [
       "<matplotlib.figure.Figure at 0x42c8b10>"
      ]
     },
     "metadata": {},
     "output_type": "display_data"
    }
   ],
   "source": [
    "%matplotlib inline\n",
    "\n",
    "x = pandas_df.diameter\n",
    "y = pandas_df.cause\n",
    "\n",
    "#fig = plt.figure()\n",
    "fig, axes = plt.subplots(1, 2, figsize=(9,3))\n",
    "\n",
    "axes[0].hist\n",
    "axes[0].set_xlabel('Diameter')\n",
    "axes[0].set_ylabel('No. of Leaks')\n",
    "axes[0].set_title('Histogram');\n",
    "\n",
    "axes[1].hist(y, 50, facecolor='b')\n",
    "axes[1].set_xlabel('Cause')\n",
    "axes[1].set_ylabel('No. of Leaks')\n",
    "axes[1].set_title('Histogram');"
   ]
  },
  {
   "cell_type": "code",
   "execution_count": 18,
   "metadata": {
    "collapsed": false
   },
   "outputs": [
    {
     "data": {
      "image/png": "[encoded data removed]",
      "text/plain": [
       "<matplotlib.figure.Figure at 0x65c7e50>"
      ]
     },
     "metadata": {},
     "output_type": "display_data"
    }
   ],
   "source": [
    "plt.rcParams['agg.path.chunksize']=10000-100000\n",
    "\n",
    "fig = plt.figure()\n",
    "\n",
    "axes = fig.add_axes([0.1, 0.1, 0.8, 0.8]) # left, bottom, width, height (range 0 to 1)\n",
    "\n",
    "axes.scatter(x, y)\n",
    "\n",
    "axes.set_xlabel('x')\n",
    "axes.set_ylabel('y')\n",
    "axes.set_title('title');\n"
   ]
  },
  {
   "cell_type": "code",
   "execution_count": 22,
   "metadata": {
    "collapsed": false
   },
   "outputs": [
    {
     "data": {
      "text/html": [
       "<div style=\"max-height:1000px;max-width:1500px;overflow:auto;\">\n",
       "<table border=\"1\" class=\"dataframe\">\n",
       "  <thead>\n",
       "    <tr style=\"text-align: right;\">\n",
       "      <th></th>\n",
       "      <th>Frequency</th>\n",
       "    </tr>\n",
       "  </thead>\n",
       "  <tbody>\n",
       "    <tr>\n",
       "      <th></th>\n",
       "      <td>119</td>\n",
       "    </tr>\n",
       "    <tr>\n",
       "      <th>I</th>\n",
       "      <td>48557</td>\n",
       "    </tr>\n",
       "    <tr>\n",
       "      <th>H</th>\n",
       "      <td>78344</td>\n",
       "    </tr>\n",
       "    <tr>\n",
       "      <th>M</th>\n",
       "      <td>154</td>\n",
       "    </tr>\n",
       "    <tr>\n",
       "      <th>L</th>\n",
       "      <td>197575</td>\n",
       "    </tr>\n",
       "    <tr>\n",
       "      <th>U</th>\n",
       "      <td>7358</td>\n",
       "    </tr>\n",
       "    <tr>\n",
       "      <th>T</th>\n",
       "      <td>136</td>\n",
       "    </tr>\n",
       "    <tr>\n",
       "      <th>X</th>\n",
       "      <td>87</td>\n",
       "    </tr>\n",
       "  </tbody>\n",
       "</table>\n",
       "</div>"
      ],
      "text/plain": [
       "   Frequency\n",
       "         119\n",
       "I      48557\n",
       "H      78344\n",
       "M        154\n",
       "L     197575\n",
       "U       7358\n",
       "T        136\n",
       "X         87"
      ]
     },
     "execution_count": 22,
     "metadata": {},
     "output_type": "execute_result"
    }
   ],
   "source": [
    "import pandas as pd \n",
    "# Convert Spark DataFrame to Pandas\n",
    "pandas_df1 = data1.toPandas()\n",
    "\n",
    "def counter(seq):\n",
    "    \"\"\"make a freq dict with species as key\"\"\"\n",
    "    seq_dict = {}\n",
    "    for n in seq:\n",
    "        if n in seq_dict:\n",
    "            seq_dict[n] += 1\n",
    "        else:\n",
    "            seq_dict[n] = 1\n",
    "    return seq_dict\n",
    "\n",
    "desc_list = pandas_df1['pressure']\n",
    "\n",
    "spec_dict = counter(desc_list)\n",
    "#lambda magic to get a sorted list from an unsorted dictionary\n",
    "most_freq8 = sorted(spec_dict,key=lambda x:spec_dict[x],reverse=True)[:8]\n",
    "#if you wanted to check this works\n",
    "chk = spec_dict.values()\n",
    "chk.sort()\n",
    "chk[-8:]#show last ten values, crossref these against diction usin#g key as most freq species from most\n",
    "\n",
    "most_freq_dict = dict(((spec,spec_dict[spec]) for spec in most_freq8)) \n",
    "most_freq_dict\n",
    "###output###\n",
    "\n",
    "hist_data = pd.DataFrame([[key,most_freq_dict[key]] for key in most_freq_dict])\n",
    "hist_data\n",
    "###output###\n",
    "\n",
    "hist_data = pd.DataFrame([most_freq_dict[key] for key in most_freq_dict],columns = ['Frequency'],index=most_freq_dict.keys())\n",
    "hist_data #we use the same dictionary(most_freq_dict) for columns and index, so this will work!\n",
    "###Output### "
   ]
  },
  {
   "cell_type": "code",
   "execution_count": 23,
   "metadata": {
    "collapsed": false
   },
   "outputs": [
    {
     "data": {
      "image/png": "[encoded data removed]",
      "text/plain": [
       "<matplotlib.figure.Figure at 0xa617710>"
      ]
     },
     "metadata": {},
     "output_type": "display_data"
    }
   ],
   "source": [
    "fig = plt.figure()\n",
    "\n",
    "axes = fig.add_axes([0.1, 0.1, 0.8, 0.8]) # left, bottom, width, height (range 0 to 1)\n",
    "\n",
    "axes.hist(hist_data['Frequency'].dropna(), 100, facecolor='r')\n",
    "\n",
    "axes.set_xlabel('x')\n",
    "axes.set_ylabel('y')\n",
    "axes.set_title('title');"
   ]
  },
  {
   "cell_type": "code",
   "execution_count": 24,
   "metadata": {
    "collapsed": false
   },
   "outputs": [
    {
     "data": {
      "text/html": [
       "<div style=\"max-height:1000px;max-width:1500px;overflow:auto;\">\n",
       "<table border=\"1\" class=\"dataframe\">\n",
       "  <thead>\n",
       "    <tr style=\"text-align: right;\">\n",
       "      <th></th>\n",
       "      <th>Frequency</th>\n",
       "    </tr>\n",
       "  </thead>\n",
       "  <tbody>\n",
       "    <tr>\n",
       "      <th></th>\n",
       "      <td>1785</td>\n",
       "    </tr>\n",
       "    <tr>\n",
       "      <th>CI</th>\n",
       "      <td>129472</td>\n",
       "    </tr>\n",
       "    <tr>\n",
       "      <th>NA</th>\n",
       "      <td>7162</td>\n",
       "    </tr>\n",
       "    <tr>\n",
       "      <th>ST</th>\n",
       "      <td>5082</td>\n",
       "    </tr>\n",
       "    <tr>\n",
       "      <th>CU</th>\n",
       "      <td>2745</td>\n",
       "    </tr>\n",
       "    <tr>\n",
       "      <th>BS</th>\n",
       "      <td>123329</td>\n",
       "    </tr>\n",
       "    <tr>\n",
       "      <th>CS</th>\n",
       "      <td>29729</td>\n",
       "    </tr>\n",
       "    <tr>\n",
       "      <th>PL</th>\n",
       "      <td>31543</td>\n",
       "    </tr>\n",
       "  </tbody>\n",
       "</table>\n",
       "</div>"
      ],
      "text/plain": [
       "    Frequency\n",
       "         1785\n",
       "CI     129472\n",
       "NA       7162\n",
       "ST       5082\n",
       "CU       2745\n",
       "BS     123329\n",
       "CS      29729\n",
       "PL      31543"
      ]
     },
     "execution_count": 24,
     "metadata": {},
     "output_type": "execute_result"
    }
   ],
   "source": [
    "def counter(seq):\n",
    "    \"\"\"make a freq dict with species as key\"\"\"\n",
    "    seq_dict = {}\n",
    "    for n in seq:\n",
    "        if n in seq_dict:\n",
    "            seq_dict[n] += 1\n",
    "        else:\n",
    "            seq_dict[n] = 1\n",
    "    return seq_dict\n",
    "\n",
    "desc_list = pandas_df1['material']\n",
    "\n",
    "spec_dict = counter(desc_list)\n",
    "#lambda magic to get a sorted list from an unsorted dictionary\n",
    "most_freq8 = sorted(spec_dict,key=lambda x:spec_dict[x],reverse=True)[:8]\n",
    "#if you wanted to check this works\n",
    "chk = spec_dict.values()\n",
    "chk.sort()\n",
    "chk[-8:]#show last ten values, crossref these against diction usin#g key as most freq species from most\n",
    "\n",
    "most_freq_dict = dict(((spec,spec_dict[spec]) for spec in most_freq8)) \n",
    "most_freq_dict\n",
    "###output###\n",
    "\n",
    "hist_data = pd.DataFrame([[key,most_freq_dict[key]] for key in most_freq_dict])\n",
    "hist_data\n",
    "###output###\n",
    "\n",
    "hist_data = pd.DataFrame([most_freq_dict[key] for key in most_freq_dict],columns = ['Frequency'],index=most_freq_dict.keys())\n",
    "hist_data #we use the same dictionary(most_freq_dict) for columns and index, so this will work!\n",
    "###Output### "
   ]
  },
  {
   "cell_type": "code",
   "execution_count": null,
   "metadata": {
    "collapsed": true
   },
   "outputs": [],
   "source": []
  }
 ],
 "metadata": {
  "kernelspec": {
   "display_name": "Python 2",
   "language": "python",
   "name": "python2"
  },
  "language_info": {
   "codemirror_mode": {
    "name": "ipython",
    "version": 2
   },
   "file_extension": ".py",
   "mimetype": "text/x-python",
   "name": "python",
   "nbconvert_exporter": "python",
   "pygments_lexer": "ipython2",
   "version": "2.7.6"
  }
 },
 "nbformat": 4,
 "nbformat_minor": 0
}
