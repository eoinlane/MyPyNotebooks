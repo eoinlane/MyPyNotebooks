{
 "cells": [
  {
   "cell_type": "code",
   "execution_count": null,
   "metadata": {
    "collapsed": false
   },
   "outputs": [],
   "source": [
    "from __future__ import print_function\n",
    "\n",
    "import sys\n",
    "\n",
    "from pyspark import SparkContext\n",
    "from pyspark.streaming import StreamingContext\n",
    "from pyspark.streaming.kafka import KafkaUtils\n",
    "\n",
    "# Create a local StreamingContext with two working thread and batch interval of 1 second\n",
    "sc = SparkContext(\"local[2]\", \"KafkaDemo\")\n",
    "streamingContext = StreamingContext(sc, 1)\n",
    "\n",
    "kafkaStream = KafkaUtils.createStream(streamingContext, 'localhost:2181', \"spark-streaming-consumer\", {'truckevent' :1})\n",
    "\n",
    "lines = kafkaStream.map(lambda x: x[1])\n",
    "counts = lines.flatMap(lambda line: line.split(\" \")) .map(lambda word: (word, 1)).reduceByKey(lambda a, b: a+b)\n",
    "counts.pprint()\n",
    "\n",
    "#def sendPartition(iter):\n",
    "    # ConnectionPool is a static, lazily initialized pool of connections\n",
    "#    connection = ConnectionPool.getConnection()\n",
    "#    for record in iter:\n",
    "#        connection.send(record)\n",
    "    # return to the pool for future reuse\n",
    "#    ConnectionPool.returnConnection(connection)\n",
    "\n",
    "#lines.foreachRDD(lambda rdd: rdd.foreachPartition(sendPartition))\n",
    "lines.saveAsTextFiles('Kafka-TIME_IN_MS', 'txt') "
   ]
  },
  {
   "cell_type": "code",
   "execution_count": null,
   "metadata": {
    "collapsed": false
   },
   "outputs": [],
   "source": [
    "streamingContext.start()             # Start the computation\n",
    "streamingContext.awaitTermination()  # Wait for the computation to terminate"
   ]
  },
  {
   "cell_type": "code",
   "execution_count": null,
   "metadata": {
    "collapsed": false
   },
   "outputs": [],
   "source": [
    "\n",
    "\n"
   ]
  },
  {
   "cell_type": "code",
   "execution_count": null,
   "metadata": {
    "collapsed": true
   },
   "outputs": [],
   "source": []
  }
 ],
 "metadata": {
  "kernelspec": {
   "display_name": "Python 2",
   "language": "python",
   "name": "python2"
  },
  "language_info": {
   "codemirror_mode": {
    "name": "ipython",
    "version": 2
   },
   "file_extension": ".py",
   "mimetype": "text/x-python",
   "name": "python",
   "nbconvert_exporter": "python",
   "pygments_lexer": "ipython2",
   "version": "2.7.6"
  }
 },
 "nbformat": 4,
 "nbformat_minor": 0
}
