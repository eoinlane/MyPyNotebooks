{
 "cells": [
  {
   "cell_type": "code",
   "execution_count": null,
   "metadata": {
    "collapsed": false
   },
   "outputs": [],
   "source": [
    "print SPARK_HOME"
   ]
  },
  {
   "cell_type": "code",
   "execution_count": 2,
   "metadata": {
    "collapsed": false
   },
   "outputs": [],
   "source": [
    "from pyspark import  SparkContext\n",
    "sc = SparkContext( 'local', 'pyspark')"
   ]
  },
  {
   "cell_type": "code",
   "execution_count": 3,
   "metadata": {
    "collapsed": false
   },
   "outputs": [
    {
     "name": "stdout",
     "output_type": "stream",
     "text": [
      "PythonRDD[6] at RDD at PythonRDD.scala:43\n",
      "[ 2.81981982]\n",
      "[ 0.30222983]\n",
      "[ 217.]\n"
     ]
    }
   ],
   "source": [
    "from pyspark.sql import HiveContext\n",
    "from pyspark.mllib.clustering import KMeans\n",
    "from pyspark.mllib.linalg import Vectors\n",
    "from pyspark.mllib.stat import Statistics\n",
    "from math import sqrt\n",
    "import matplotlib.pyplot as plt\n",
    "from pylab import *\n",
    "\n",
    "%matplotlib inline\n",
    "\n",
    "\n",
    "hiveContext = HiveContext(sc)\n",
    "\n",
    "#Build a feature matrix\n",
    "data = hiveContext.sql('select severity from boston_leaks')\n",
    "\n",
    "#label.zip(scaler1.transform(features.map(lambda x: Vectors.dense(x.toArray()))))\n",
    "parsedData = data.map(lambda x: Vectors.dense(x)).cache()\n",
    "#val parsedData = data.map(x => Vectors.dense(x.split(',').map(_.toDouble))).cache()\n",
    "\n",
    "print parsedData\n",
    "summary = Statistics.colStats(parsedData)\n",
    "print summary.mean()\n",
    "print summary.variance()\n",
    "print summary.numNonzeros()"
   ]
  },
  {
   "cell_type": "code",
   "execution_count": 3,
   "metadata": {
    "collapsed": false
   },
   "outputs": [
    {
     "name": "stdout",
     "output_type": "stream",
     "text": [
      "Within Set Sum of Squared Error = 18.0\n"
     ]
    }
   ],
   "source": [
    "# Build the model (cluster the data)\n",
    "clusters = KMeans.train(parsedData, 2, maxIterations=10,runs=10, initializationMode=\"random\")\n",
    "\n",
    "# Evaluate clustering by computing Within Set Sum of Squared Errors\n",
    "def error(point):\n",
    "    center = clusters.centers[clusters.predict(point)]\n",
    "    return sqrt(sum([x**2 for x in (point - center)]))\n",
    "\n",
    "WSSSE = parsedData.map(lambda point: error(point)).reduce(lambda x, y: x + y)\n",
    "print(\"Within Set Sum of Squared Error = \" + str(WSSSE))"
   ]
  },
  {
   "cell_type": "code",
   "execution_count": 4,
   "metadata": {
    "collapsed": false
   },
   "outputs": [
    {
     "data": {
      "text/plain": [
       "DataFrame[days_open: bigint, count: bigint]"
      ]
     },
     "execution_count": 4,
     "metadata": {},
     "output_type": "execute_result"
    }
   ],
   "source": [
    "# No lets use the new Spark Data Frames in 1.3.x\n",
    "# https://databricks.com/blog/2015/02/17/introducing-dataframes-in-spark-for-large-scale-data-science.html\n",
    "\n",
    "# Constructs a DataFrame from the boston_leaks table in Hive.\n",
    "leaks = hiveContext.table(\"boston_leaks\")\n",
    "\n",
    "# Create a new DataFrame that contains “low risk leaks” only\n",
    "lowRisk = leaks.filter(leaks.severity < 3)\n",
    "\n",
    "# Alternatively, using Pandas-like syntax\n",
    "lowRisk = leaks[leaks.severity < 3]\n",
    "\n",
    "# Increment the leak’s severity by 1\n",
    "lowRisk.select(lowRisk.leak_no, lowRisk.severity + 1)\n",
    "\n",
    "# Count the number of low risk leaks by days open\n",
    "lowRisk.groupBy(\"days_open\").count()\n",
    "\n",
    "# Join young users with another DataFrame called logs\n",
    "#young.join(logs, logs.userId == users.userId, \"left_outer\")"
   ]
  },
  {
   "cell_type": "code",
   "execution_count": 5,
   "metadata": {
    "collapsed": false
   },
   "outputs": [
    {
     "name": "stdout",
     "output_type": "stream",
     "text": [
      "                                               wkt  leak_no    wonum  \\\n",
      "0     POINT (-71.0771347637248 42.335619114067697)   269235   403711   \n",
      "1   POINT (-71.101699881046116 42.342414338514445)   325036   685066   \n",
      "2   POINT (-71.096736500825457 42.337606356914897)  1230025   919102   \n",
      "3     POINT (-71.078340785188317 42.3366379410391)  1540329   966677   \n",
      "4   POINT (-71.058741754347935 42.353288226082071)  1598457   976220   \n",
      "5   POINT (-71.094876015347296 42.342861529452364)  1598504   976250   \n",
      "6   POINT (-71.067760961153169 42.340848335392472)  1600664   976668   \n",
      "7   POINT (-71.062516539443862 42.342842699545187)  1601476   976807   \n",
      "8   POINT (-71.070498934883886 42.345932404251343)  1630947   982732   \n",
      "9   POINT (-71.076461591489021 42.343093176929528)  1635977   983856   \n",
      "10   POINT (-71.072999108936258 42.33325856025742)  1656871   987237   \n",
      "11  POINT (-71.084176543744249 42.349162681976523)  1669623   990211   \n",
      "12  POINT (-71.053384176904643 42.364019933217243)  1676878   991526   \n",
      "13  POINT (-71.082883890032107 42.351756978032235)  1689770   993327   \n",
      "14  POINT (-71.057251015475998 42.355466216277279)  1706961   996260   \n",
      "15  POINT (-71.056574657597565 42.355456326955576)  1709770   996315   \n",
      "16   POINT (-71.06702217703878 42.361187960341873)  1711035   996617   \n",
      "17  POINT (-71.069880015971847 42.356144392807032)  1734146  1000054   \n",
      "18  POINT (-71.067476713088283 42.343990838611482)  1734218  1000082   \n",
      "19  POINT (-71.077021353793683 42.338605835858139)  1744982  1001392   \n",
      "20  POINT (-71.101331764371196 42.350443386456753)  1746845  1001882   \n",
      "21  POINT (-71.088171957385825 42.344346655477707)  1754477  1003348   \n",
      "22  POINT (-71.068668114192135 42.361167928565074)  1755615  1004425   \n",
      "23  POINT (-71.078615392148819 42.350657096142683)  1774393  1008599   \n",
      "24   POINT (-71.06056250834051 42.365769053311787)  1774405  1008604   \n",
      "25   POINT (-71.096364608992488 42.34880201538067)  1774416  1008607   \n",
      "26  POINT (-71.077641094558487 42.340802885315512)  1775386  1008771   \n",
      "27  POINT (-71.078097533150299 42.340438592009932)  1790046  1012166   \n",
      "\n",
      "                  descriptio  severity     x_coord     y_coord  days_open  \n",
      "0     115 NORTHAMPTON ST BOS         2  234848.725  898433.815        400  \n",
      "1             235 PARK DRBOS         2  232820.781  899178.850         37  \n",
      "2         19 VANCOUVER STBOS         0  233232.296  898646.725        543  \n",
      "3      160 NORTHAMPTON STBOS         2  234748.777  898546.489        263  \n",
      "4           85 BEDFORD STBOS         2  236354.344  900404.088        237  \n",
      "5              55 PARK DRBOS         2  233382.842  899231.170        237  \n",
      "6            HARRISON AVEBOS         2  235618.279  899018.522        239  \n",
      "7           307 ALBANY STBOS         2  236049.301  899242.249        264  \n",
      "8          35 BERKELEY STBOS         2  235389.817  899582.095        190  \n",
      "9      196 W BROOKLINE STBOS         2  234900.079  899264.271        185  \n",
      "10  784 MASSACHUSETTS AVEBOS         2  235190.858  898173.315        171  \n",
      "11         284 NEWBURY STBOS         2  234261.076  899935.314        156  \n",
      "12            31 NORTH SQBOS         2  236789.498  901598.412        141  \n",
      "13     275 MARLBOROUGH STBOS         2  234366.172  900223.996        122  \n",
      "14        106 FRANKLIN STBOS         0  236475.906  900646.645        112  \n",
      "15          70 FEDERAL STBOS         2  236531.633  900645.836        118  \n",
      "16       209 CAMBRIDGE STBOS         0  235667.689  901278.057        117  \n",
      "17           70 BEACON STBOS         0  235435.094  900716.650         90  \n",
      "18        225 SHAWMUT AVEBOS         2  235639.932  899367.694         99  \n",
      "19        41 WORCESTER STBOS         0  234856.426  898765.611        100  \n",
      "20       173 BAY STATE RDBOS         2  232846.946  900070.820         79  \n",
      "21          48 BURBANK STBOS         2  233934.466  899398.776         71  \n",
      "22       300 CAMBRIDGE STBOS         2  235532.113  901275.145         54  \n",
      "23         169 NEWBURY STBOS         2  234718.454  900103.555         37  \n",
      "24        125 CAUSEWAY STBOS         2  236197.195  901789.625         36  \n",
      "25   543 COMMONWEALTH AVEBOS         2  233257.058  899890.429         35  \n",
      "26         711 TREMONT STBOS         1  234804.147  899009.395         21  \n",
      "27         725 TREMONT STBOS         1  234766.735  898968.745          2  \n"
     ]
    }
   ],
   "source": [
    "# Convert Spark DataFrame to Pandas\n",
    "pandas_df = lowRisk.toPandas()\n",
    "\n",
    "# Create a Spark DataFrame from Pandas\n",
    "spark_df = hiveContext.createDataFrame(pandas_df)\n",
    "\n",
    "print pandas_df"
   ]
  },
  {
   "cell_type": "code",
   "execution_count": 6,
   "metadata": {
    "collapsed": false
   },
   "outputs": [],
   "source": [
    "x = pandas_df.severity\n",
    "y = pandas_df.days_open"
   ]
  },
  {
   "cell_type": "code",
   "execution_count": 7,
   "metadata": {
    "collapsed": false
   },
   "outputs": [
    {
     "data": {
      "image/png": "[encoded data removed]",
      "text/plain": [
       "<matplotlib.figure.Figure at 0x3a0e9d0>"
      ]
     },
     "metadata": {},
     "output_type": "display_data"
    }
   ],
   "source": [
    "#fig = plt.figure()\n",
    "fig, axes = plt.subplots(1, 2, figsize=(10,3))\n",
    "\n",
    "axes[0].hist(x, 50, facecolor='r')\n",
    "axes[0].set_xlabel('Severity')\n",
    "axes[0].set_ylabel('No. of Leaks')\n",
    "axes[0].set_title('Histogram');\n",
    "\n",
    "axes[1].hist(y, 50, facecolor='b')\n",
    "axes[1].set_xlabel('Days Open')\n",
    "axes[1].set_ylabel('No. of Leaks')\n",
    "axes[1].set_title('Histogram');"
   ]
  },
  {
   "cell_type": "code",
   "execution_count": 109,
   "metadata": {
    "collapsed": false
   },
   "outputs": [
    {
     "ename": "AttributeError",
     "evalue": "'PipelinedRDD' object has no attribute 'schema'",
     "output_type": "error",
     "traceback": [
      "\u001b[1;31m---------------------------------------------------------------------------\u001b[0m",
      "\u001b[1;31mAttributeError\u001b[0m                            Traceback (most recent call last)",
      "\u001b[1;32m<ipython-input-109-a79e32685a07>\u001b[0m in \u001b[0;36m<module>\u001b[1;34m()\u001b[0m\n\u001b[0;32m     10\u001b[0m \u001b[1;32mfrom\u001b[0m \u001b[0mpyspark\u001b[0m\u001b[1;33m.\u001b[0m\u001b[0mmllib\u001b[0m\u001b[1;33m.\u001b[0m\u001b[0mlinalg\u001b[0m \u001b[1;32mimport\u001b[0m \u001b[0mVectors\u001b[0m\u001b[1;33m\u001b[0m\u001b[0m\n\u001b[0;32m     11\u001b[0m \u001b[1;33m\u001b[0m\u001b[0m\n\u001b[1;32m---> 12\u001b[1;33m \u001b[0msummarize\u001b[0m\u001b[1;33m(\u001b[0m\u001b[0mparsedData\u001b[0m\u001b[1;33m)\u001b[0m\u001b[1;33m\u001b[0m\u001b[0m\n\u001b[0m\u001b[0;32m     13\u001b[0m \u001b[1;33m\u001b[0m\u001b[0m\n",
      "\u001b[1;32m<ipython-input-109-a79e32685a07>\u001b[0m in \u001b[0;36msummarize\u001b[1;34m(dataset)\u001b[0m\n\u001b[0;32m      1\u001b[0m \u001b[1;32mdef\u001b[0m \u001b[0msummarize\u001b[0m\u001b[1;33m(\u001b[0m\u001b[0mdataset\u001b[0m\u001b[1;33m)\u001b[0m\u001b[1;33m:\u001b[0m\u001b[1;33m\u001b[0m\u001b[0m\n\u001b[1;32m----> 2\u001b[1;33m     \u001b[1;32mprint\u001b[0m \u001b[1;34m\"schema: %s\"\u001b[0m \u001b[1;33m%\u001b[0m \u001b[0mdataset\u001b[0m\u001b[1;33m.\u001b[0m\u001b[0mschema\u001b[0m\u001b[1;33m(\u001b[0m\u001b[1;33m)\u001b[0m\u001b[1;33m.\u001b[0m\u001b[0mjson\u001b[0m\u001b[1;33m(\u001b[0m\u001b[1;33m)\u001b[0m\u001b[1;33m\u001b[0m\u001b[0m\n\u001b[0m\u001b[0;32m      3\u001b[0m     \u001b[0mlabels\u001b[0m \u001b[1;33m=\u001b[0m \u001b[0mdataset\u001b[0m\u001b[1;33m.\u001b[0m\u001b[0mmap\u001b[0m\u001b[1;33m(\u001b[0m\u001b[1;32mlambda\u001b[0m \u001b[0mr\u001b[0m\u001b[1;33m:\u001b[0m \u001b[0mr\u001b[0m\u001b[1;33m.\u001b[0m\u001b[0mlabel\u001b[0m\u001b[1;33m)\u001b[0m\u001b[1;33m\u001b[0m\u001b[0m\n\u001b[0;32m      4\u001b[0m     \u001b[1;32mprint\u001b[0m \u001b[1;34m\"label average: %f\"\u001b[0m \u001b[1;33m%\u001b[0m \u001b[0mlabels\u001b[0m\u001b[1;33m.\u001b[0m\u001b[0mmean\u001b[0m\u001b[1;33m(\u001b[0m\u001b[1;33m)\u001b[0m\u001b[1;33m\u001b[0m\u001b[0m\n\u001b[0;32m      5\u001b[0m     \u001b[0mfeatures\u001b[0m \u001b[1;33m=\u001b[0m \u001b[0mdataset\u001b[0m\u001b[1;33m.\u001b[0m\u001b[0mmap\u001b[0m\u001b[1;33m(\u001b[0m\u001b[1;32mlambda\u001b[0m \u001b[0mr\u001b[0m\u001b[1;33m:\u001b[0m \u001b[0mr\u001b[0m\u001b[1;33m.\u001b[0m\u001b[0mfeatures\u001b[0m\u001b[1;33m)\u001b[0m\u001b[1;33m\u001b[0m\u001b[0m\n",
      "\u001b[1;31mAttributeError\u001b[0m: 'PipelinedRDD' object has no attribute 'schema'"
     ]
    }
   ],
   "source": [
    "def summarize(dataset):\n",
    "    print \"schema: %s\" % dataset.schema().json()\n",
    "    labels = dataset.map(lambda r: r.label)\n",
    "    print \"label average: %f\" % labels.mean()\n",
    "    features = dataset.map(lambda r: r.features)\n",
    "    summary = Statistics.colStats(features)\n",
    "    print \"features average: %r\" % summary.mean()\n",
    "\n",
    "from pyspark.mllib.stat import Statistics\n",
    "from pyspark.mllib.linalg import Vectors\n",
    "\n",
    "summarize(parsedData)\n",
    "\n"
   ]
  },
  {
   "cell_type": "code",
   "execution_count": null,
   "metadata": {
    "collapsed": false
   },
   "outputs": [],
   "source": [
    "def isprime(n):\n",
    "    \"\"\"\n",
    "    check if integer n is a prime\n",
    "    \"\"\"\n",
    "    # make sure n is a positive integer\n",
    "    n = abs(int(n))\n",
    "    # 0 and 1 are not primes\n",
    "    if n < 2:\n",
    "        return False\n",
    "    # 2 is the only even prime number\n",
    "    if n == 2:\n",
    "        return True\n",
    "    # all other even numbers are not primes\n",
    "    if not n & 1:\n",
    "        return False\n",
    "    # range starts with 3 and only needs to go up the square root of n\n",
    "    # for all odd numbers\n",
    "    for x in range(3, int(n**0.5)+1, 2):\n",
    "        if n % x == 0:\n",
    "            return False\n",
    "    return True\n",
    "\n",
    "# Create an RDD of numbers from 0 to 1,000,000\n",
    "nums = sc.parallelize(xrange(1000000))\n",
    "\n",
    "# Compute the number of primes in the RDD\n",
    "print nums.filter(isprime).count()"
   ]
  },
  {
   "cell_type": "code",
   "execution_count": 112,
   "metadata": {
    "collapsed": true
   },
   "outputs": [],
   "source": [
    "myLines = sc.textFile('hdfs://sandbox.hortonworks.com/user/guest/Hortonworks')"
   ]
  },
  {
   "cell_type": "code",
   "execution_count": 113,
   "metadata": {
    "collapsed": true
   },
   "outputs": [],
   "source": [
    "myLines_filtered = myLines.filter( lambda x: len(x) > 0 )"
   ]
  },
  {
   "cell_type": "code",
   "execution_count": 114,
   "metadata": {
    "collapsed": false
   },
   "outputs": [
    {
     "data": {
      "text/plain": [
       "344"
      ]
     },
     "execution_count": 114,
     "metadata": {},
     "output_type": "execute_result"
    }
   ],
   "source": [
    "myLines_filtered.count()"
   ]
  },
  {
   "cell_type": "code",
   "execution_count": 115,
   "metadata": {
    "collapsed": true
   },
   "outputs": [],
   "source": [
    "bostonLeaks = sc.textFile('hdfs://sandbox.hortonworks.com/user/hue/PROD_LEAKS.csv')"
   ]
  },
  {
   "cell_type": "code",
   "execution_count": 116,
   "metadata": {
    "collapsed": false
   },
   "outputs": [
    {
     "data": {
      "text/plain": [
       "296985"
      ]
     },
     "execution_count": 116,
     "metadata": {},
     "output_type": "execute_result"
    }
   ],
   "source": [
    "bostonLeaks.count()"
   ]
  },
  {
   "cell_type": "code",
   "execution_count": null,
   "metadata": {
    "collapsed": false
   },
   "outputs": [],
   "source": [
    "from pyspark.mllib.stat import Statistics\n",
    "\n",
    "# Compute column summary statistics.\n",
    "summary = Statistics.colStats(bostonLeaks)\n",
    "print summary.mean()\n",
    "print summary.variance()\n",
    "print summary.numNonzeros()"
   ]
  },
  {
   "cell_type": "code",
   "execution_count": null,
   "metadata": {
    "collapsed": false
   },
   "outputs": [],
   "source": []
  },
  {
   "cell_type": "code",
   "execution_count": null,
   "metadata": {
    "collapsed": true
   },
   "outputs": [],
   "source": []
  }
 ],
 "metadata": {
  "kernelspec": {
   "display_name": "Python 2",
   "language": "python",
   "name": "python2"
  },
  "language_info": {
   "codemirror_mode": {
    "name": "ipython",
    "version": 2
   },
   "file_extension": ".py",
   "mimetype": "text/x-python",
   "name": "python",
   "nbconvert_exporter": "python",
   "pygments_lexer": "ipython2",
   "version": "2.7.6"
  }
 },
 "nbformat": 4,
 "nbformat_minor": 0
}
