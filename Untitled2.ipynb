{
 "cells": [
  {
   "cell_type": "code",
   "execution_count": 15,
   "metadata": {
    "collapsed": false
   },
   "outputs": [
    {
     "ename": "SyntaxError",
     "evalue": "invalid syntax (<ipython-input-15-45a29b823db7>, line 24)",
     "output_type": "error",
     "traceback": [
      "\u001b[1;36m  File \u001b[1;32m\"<ipython-input-15-45a29b823db7>\"\u001b[1;36m, line \u001b[1;32m24\u001b[0m\n\u001b[1;33m    2d = array.split(\",\")\u001b[0m\n\u001b[1;37m     ^\u001b[0m\n\u001b[1;31mSyntaxError\u001b[0m\u001b[1;31m:\u001b[0m invalid syntax\n"
     ]
    }
   ],
   "source": [
    "from pyspark import SparkContext\n",
    "\n",
    "from pyspark.mllib.clustering import KMeans\n",
    "\n",
    "import matplotlib.pyplot as plt\n",
    "from pylab import *\n",
    "\n",
    "%matplotlib inline\n",
    "\n",
    "from numpy import array\n",
    "\n",
    "from math import sqrt\n",
    "\n",
    "import itertools\n",
    "\n",
    "#sc = SparkContext()\n",
    "\n",
    " \n",
    "\n",
    "#4 data points (0.0, 0.0), (1.0, 1.0), (9.0, 8.0) (8.0, 9.0)\n",
    "\n",
    "data = array([0.0,0.0, 1.0,1.0, 9.0,8.0, 8.0,9.0]).reshape(4,2)\n",
    "\n",
    "2d = array.split(\",\")\n",
    "print 2d\n",
    "\n",
    "plt.plot(data)\n",
    "plt.ylabel('The data')\n",
    "plt.show()\n",
    " \n",
    "\n",
    "#Generate K means\n",
    "\n",
    "model = KMeans.train(sc.parallelize(data), 2, maxIterations=10, runs=30, initializationMode=\"random\")\n",
    "\n",
    "print model.clusterCenters\n",
    "\n",
    "\n",
    "#>>> list2d = [[1,2,3],[4,5,6], [7], [8,9]]\n",
    "\n",
    "merged = list(itertools.chain.from_iterable(model.clusterCenters))\n",
    "\n",
    "print merged\n",
    "\n",
    "plt.scatter(model.clusterCenters)\n",
    "plt.ylabel('The clusters')\n",
    "plt.show()\n",
    "\n",
    "#clusterCenters = model.clusterCenters.map(_.toArray)\n",
    "\n",
    "#Print out the cluster of each data point\n",
    "\n",
    "print (model.predict(array([0.0, 0.0])))\n",
    "\n",
    "print (model.predict(array([1.0, 1.0])))\n",
    "\n",
    "print (model.predict(array([9.0, 8.0])))\n",
    "\n",
    "print (model.predict(array([8.0, 0.0])))"
   ]
  },
  {
   "cell_type": "code",
   "execution_count": null,
   "metadata": {
    "collapsed": true
   },
   "outputs": [],
   "source": []
  }
 ],
 "metadata": {
  "kernelspec": {
   "display_name": "Python 2",
   "language": "python",
   "name": "python2"
  },
  "language_info": {
   "codemirror_mode": {
    "name": "ipython",
    "version": 2
   },
   "file_extension": ".py",
   "mimetype": "text/x-python",
   "name": "python",
   "nbconvert_exporter": "python",
   "pygments_lexer": "ipython2",
   "version": "2.7.6"
  }
 },
 "nbformat": 4,
 "nbformat_minor": 0
}
