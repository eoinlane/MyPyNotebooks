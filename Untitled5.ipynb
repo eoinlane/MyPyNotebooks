{
 "cells": [
  {
   "cell_type": "code",
   "execution_count": 1,
   "metadata": {
    "collapsed": false
   },
   "outputs": [
    {
     "name": "stdout",
     "output_type": "stream",
     "text": [
      "[['default', ''], ['xademo', '']]\n"
     ]
    }
   ],
   "source": [
    "import pyhs2\n",
    "import pandas as pd \n",
    "\n",
    "from pylab import *\n",
    "import matplotlib.pyplot as plt\n",
    "%matplotlib inline\n",
    "\n",
    "with pyhs2.connect(host='localhost',\n",
    "                   port=10000,\n",
    "                   authMechanism=\"PLAIN\",\n",
    "                   user='root',\n",
    "                   password='test',\n",
    "                   database='default') as conn:\n",
    "    with conn.cursor() as cur:\n",
    "    \t#Show databases\n",
    "    \tprint cur.getDatabases()\n",
    "\n",
    "    \t#Execute query\n",
    "        sql = \"select leak_no,create_date,status from new_england_leaks\"\n",
    "        cur.execute(sql)\n",
    "        #date = \"select * from regulatory_leak_data\"\n",
    "        #Return column info from query\n",
    "        columnNames = ['Leak_no', 'Date_created', 'Status']\n",
    "        #columnNames = ['Leak_no', 'WO_no', 'Description', 'Date', 'Classification', 'Barhole_reading', 'No_repairs', 'Pressure', 'Material', 'Diameter', 'Main_service', 'Repair_service', 'Cause']\n",
    "        #print columnNames\n",
    "        #columnNames = [a['columnName'] for a in  cur.getSchema() if a['type']=='STRING_TYPE'] \n",
    "        data =  pd.DataFrame(cur.fetch(), columns=columnNames)\n",
    "        #data_with_index = data.set_index('Date_created')"
   ]
  },
  {
   "cell_type": "code",
   "execution_count": 2,
   "metadata": {
    "collapsed": false
   },
   "outputs": [
    {
     "data": {
      "text/plain": [
       "pandas.core.frame.DataFrame"
      ]
     },
     "execution_count": 2,
     "metadata": {},
     "output_type": "execute_result"
    }
   ],
   "source": [
    "type(data)"
   ]
  },
  {
   "cell_type": "code",
   "execution_count": 3,
   "metadata": {
    "collapsed": false
   },
   "outputs": [
    {
     "data": {
      "text/plain": [
       "((296553, 3), Index([u'Leak_no', u'Date_created', u'Status'], dtype='object'))"
      ]
     },
     "execution_count": 3,
     "metadata": {},
     "output_type": "execute_result"
    }
   ],
   "source": [
    "data.shape, data.keys()"
   ]
  },
  {
   "cell_type": "code",
   "execution_count": 4,
   "metadata": {
    "collapsed": false
   },
   "outputs": [
    {
     "data": {
      "text/plain": [
       "<matplotlib.axes._subplots.AxesSubplot at 0x18c0b90>"
      ]
     },
     "execution_count": 4,
     "metadata": {},
     "output_type": "execute_result"
    },
    {
     "data": {
      "image/png": "[encoded data removed]",
      "text/plain": [
       "<matplotlib.figure.Figure at 0x18c3b10>"
      ]
     },
     "metadata": {},
     "output_type": "display_data"
    }
   ],
   "source": [
    " data.plot()"
   ]
  },
  {
   "cell_type": "code",
   "execution_count": 35,
   "metadata": {
    "collapsed": false
   },
   "outputs": [
    {
     "data": {
      "text/html": [
       "<div style=\"max-height:1000px;max-width:1500px;overflow:auto;\">\n",
       "<table border=\"1\" class=\"dataframe\">\n",
       "  <thead>\n",
       "    <tr style=\"text-align: right;\">\n",
       "      <th></th>\n",
       "      <th>Frequency</th>\n",
       "    </tr>\n",
       "  </thead>\n",
       "  <tbody>\n",
       "    <tr>\n",
       "      <th>1</th>\n",
       "      <td>9192</td>\n",
       "    </tr>\n",
       "    <tr>\n",
       "      <th>2</th>\n",
       "      <td>2388</td>\n",
       "    </tr>\n",
       "    <tr>\n",
       "      <th>3</th>\n",
       "      <td>171</td>\n",
       "    </tr>\n",
       "    <tr>\n",
       "      <th>4</th>\n",
       "      <td>920</td>\n",
       "    </tr>\n",
       "    <tr>\n",
       "      <th>5</th>\n",
       "      <td>42</td>\n",
       "    </tr>\n",
       "    <tr>\n",
       "      <th>9</th>\n",
       "      <td>283840</td>\n",
       "    </tr>\n",
       "  </tbody>\n",
       "</table>\n",
       "</div>"
      ],
      "text/plain": [
       "   Frequency\n",
       "1       9192\n",
       "2       2388\n",
       "3        171\n",
       "4        920\n",
       "5         42\n",
       "9     283840"
      ]
     },
     "execution_count": 35,
     "metadata": {},
     "output_type": "execute_result"
    }
   ],
   "source": [
    "\n",
    "\n",
    "def counter(seq):\n",
    "    \"\"\"make a freq dict with species as key\"\"\"\n",
    "    seq_dict = {}\n",
    "    for n in seq:\n",
    "        if n in seq_dict:\n",
    "            seq_dict[n] += 1\n",
    "        else:\n",
    "            seq_dict[n] = 1\n",
    "    return seq_dict\n",
    "\n",
    "desc_list = data['Status']\n",
    "\n",
    "spec_dict = counter(desc_list)\n",
    "#lambda magic to get a sorted list from an unsorted dictionary\n",
    "most_freq8 = sorted(spec_dict,key=lambda x:spec_dict[x],reverse=True)[:8]\n",
    "#if you wanted to check this works\n",
    "chk = spec_dict.values()\n",
    "chk.sort()\n",
    "chk[-8:]#show last ten values, crossref these against diction usin#g key as most freq species from most\n",
    "\n",
    "most_freq_dict = dict(((spec,spec_dict[spec]) for spec in most_freq8)) \n",
    "most_freq_dict\n",
    "###output###\n",
    "\n",
    "hist_data = pd.DataFrame([[key,most_freq_dict[key]] for key in most_freq_dict])\n",
    "hist_data\n",
    "###output###\n",
    "\n",
    "hist_data = pd.DataFrame([most_freq_dict[key] for key in most_freq_dict],columns = ['Frequency'],index=most_freq_dict.keys())\n",
    "hist_data #we use the same dictionary(most_freq_dict) for columns and index, so this will work!\n",
    "###Output### "
   ]
  },
  {
   "cell_type": "code",
   "execution_count": 32,
   "metadata": {
    "collapsed": false
   },
   "outputs": [
    {
     "name": "stdout",
     "output_type": "stream",
     "text": [
      "[['default', ''], ['xademo', '']]\n"
     ]
    }
   ],
   "source": [
    "with pyhs2.connect(host='localhost',\n",
    "                   port=10000,\n",
    "                   authMechanism=\"PLAIN\",\n",
    "                   user='root',\n",
    "                   password='test',\n",
    "                   database='default') as conn:\n",
    "    with conn.cursor() as cur:\n",
    "    \t#Show databases\n",
    "    \tprint cur.getDatabases()\n",
    "        #Execute query\n",
    "        sql = \"select * from leak_status_code\"\n",
    "        cur.execute(sql)\n",
    "        #date = \"select * from regulatory_leak_data\"\n",
    "        #Return column info from query\n",
    "        columnNames = ['Status', 'Description']\n",
    "        #columnNames = ['Leak_no', 'WO_no', 'Description', 'Date', 'Classification', 'Barhole_reading', 'No_repairs', 'Pressure', 'Material', 'Diameter', 'Main_service', 'Repair_service', 'Cause']\n",
    "        #print columnNames\n",
    "        #columnNames = [a['columnName'] for a in  cur.getSchema() if a['type']=='STRING_TYPE'] \n",
    "        statusData =  pd.DataFrame(cur.fetch(), columns=columnNames)\n",
    "        data_with_index = data.set_index('Status')"
   ]
  },
  {
   "cell_type": "code",
   "execution_count": 33,
   "metadata": {
    "collapsed": false
   },
   "outputs": [
    {
     "data": {
      "text/html": [
       "<div style=\"max-height:1000px;max-width:1500px;overflow:auto;\">\n",
       "<table border=\"1\" class=\"dataframe\">\n",
       "  <thead>\n",
       "    <tr style=\"text-align: right;\">\n",
       "      <th></th>\n",
       "      <th>Status</th>\n",
       "      <th>Description</th>\n",
       "    </tr>\n",
       "  </thead>\n",
       "  <tbody>\n",
       "    <tr>\n",
       "      <th>0</th>\n",
       "      <td>1</td>\n",
       "      <td>Initial code</td>\n",
       "    </tr>\n",
       "    <tr>\n",
       "      <th>1</th>\n",
       "      <td>2</td>\n",
       "      <td>Monitoring</td>\n",
       "    </tr>\n",
       "    <tr>\n",
       "      <th>2</th>\n",
       "      <td>3</td>\n",
       "      <td>Upgrade</td>\n",
       "    </tr>\n",
       "    <tr>\n",
       "      <th>3</th>\n",
       "      <td>4</td>\n",
       "      <td>Downgrade</td>\n",
       "    </tr>\n",
       "    <tr>\n",
       "      <th>4</th>\n",
       "      <td>9</td>\n",
       "      <td>Repaired</td>\n",
       "    </tr>\n",
       "    <tr>\n",
       "      <th>5</th>\n",
       "      <td>5</td>\n",
       "      <td>Partial Repair</td>\n",
       "    </tr>\n",
       "  </tbody>\n",
       "</table>\n",
       "</div>"
      ],
      "text/plain": [
       "   Status     Description\n",
       "0       1    Initial code\n",
       "1       2      Monitoring\n",
       "2       3         Upgrade\n",
       "3       4       Downgrade\n",
       "4       9        Repaired\n",
       "5       5  Partial Repair"
      ]
     },
     "execution_count": 33,
     "metadata": {},
     "output_type": "execute_result"
    }
   ],
   "source": [
    "statusData\n",
    "\n"
   ]
  },
  {
   "cell_type": "code",
   "execution_count": null,
   "metadata": {
    "collapsed": true
   },
   "outputs": [],
   "source": [
    "result = pd.merge(statusData, hist_data left_on='lkey', right_on='rkey', how='outer')\n",
    "result"
   ]
  }
 ],
 "metadata": {
  "kernelspec": {
   "display_name": "Python 2",
   "language": "python",
   "name": "python2"
  },
  "language_info": {
   "codemirror_mode": {
    "name": "ipython",
    "version": 2
   },
   "file_extension": ".py",
   "mimetype": "text/x-python",
   "name": "python",
   "nbconvert_exporter": "python",
   "pygments_lexer": "ipython2",
   "version": "2.7.6"
  }
 },
 "nbformat": 4,
 "nbformat_minor": 0
}
